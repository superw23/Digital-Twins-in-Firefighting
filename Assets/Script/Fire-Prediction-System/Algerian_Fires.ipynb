{
 "cells": [
  {
   "cell_type": "code",
   "execution_count": 1,
   "id": "1cd654b9",
   "metadata": {},
   "outputs": [
    {
     "data": {
      "text/plain": [
       "\"\\nAlgerian Fires Dataset Analysis for Digital Twin Fire Prediction\\n\\nThis Python script is dedicated to the analysis of the Algerian Fires dataset,\\nwhich is a rare and valuable compilation of fire occurrence data in Algeria.\\nThe dataset encompasses records from two distinct regions of Algeria and is\\nclassified into 'fire' and 'not fire' instances, which makes it particularly\\nuseful for developing predictive models in fire management systems.\\n\\nData set Availability:\\nThe dataset is available at the UCI Machine Learning Repository:\\nhttps://archive.ics.uci.edu/ml/datasets/Algerian+Forest+Fires+Dataset++\\n\\nData Set Information:\\n- Contains 244 instances of fire data from two regions in Algeria.\\n- Each region contributes 122 instances, totaling 244 instances with labels\\n  'fire' (138 instances) and 'not fire' (106 instances).\\n- Timeframe of data: June 2012 to September 2012.\\n\\nAttribute Information:\\nWeather data observations and FWI Components such as temperature, relative humidity,\\nwind speed, rain, and various indices from the FWI system like FFMC, DMC, DC, ISI, and BUI.\\n\\nPurpose:\\nThe aim of this script is to use machine learning techniques to build a model that will\\nbe deployed as part of a digital twin for fire prediction. This model aims to reduce the\\nlikelihood of fires by accurately predicting fire occurrences based on weather and FWI components.\\n\\nBy leveraging the power of machine learning and the specific insights offered by this dataset,\\nthe model will serve as a critical component in a digital twin system, enhancing the ability\\nto anticipate fire outbreaks and enabling proactive measures in fire-prone areas.\\n\""
      ]
     },
     "execution_count": 1,
     "metadata": {},
     "output_type": "execute_result"
    }
   ],
   "source": [
    "\n",
    "\"\"\"\n",
    "Part of the AI implementation in this project was adapted from an open-source Fire Prediction System \n",
    "available on GitHub, created by developer vaniseth. This code was used to establish a preliminary \n",
    "model for fire prediction, and then it was refined to suit our Digital Twin system. \n",
    "The original repository can be accessed at: https://github.com/vaniseth/Forest-Fire-Prediction-System\n",
    "\"\"\"\n",
    "\n",
    "\n",
    "\"\"\"\n",
    "Algerian Fires Dataset Analysis for Digital Twin Fire Prediction\n",
    "\n",
    "This Python script is dedicated to the analysis of the Algerian Fires dataset,\n",
    "which is a rare and valuable compilation of fire occurrence data in Algeria.\n",
    "The dataset encompasses records from two distinct regions of Algeria and is\n",
    "classified into 'fire' and 'not fire' instances, which makes it particularly\n",
    "useful for developing predictive models in fire management systems.\n",
    "\n",
    "Data set Availability:\n",
    "The dataset is available at the UCI Machine Learning Repository:\n",
    "https://archive.ics.uci.edu/ml/datasets/Algerian+Forest+Fires+Dataset++\n",
    "\n",
    "Data Set Information:\n",
    "- Contains 244 instances of fire data from two regions in Algeria.\n",
    "- Each region contributes 122 instances, totaling 244 instances with labels\n",
    "  'fire' (138 instances) and 'not fire' (106 instances).\n",
    "- Timeframe of data: June 2012 to September 2012.\n",
    "\n",
    "Attribute Information:\n",
    "Weather data observations and FWI Components such as temperature, relative humidity,\n",
    "wind speed, rain, and various indices from the FWI system like FFMC, DMC, DC, ISI, and BUI.\n",
    "\n",
    "Purpose:\n",
    "The aim of this script is to use machine learning techniques to build a model that will\n",
    "be deployed as part of a digital twin for fire prediction. This model aims to reduce the\n",
    "likelihood of fires by accurately predicting fire occurrences based on weather and FWI components.\n",
    "\n",
    "By leveraging the power of machine learning and the specific insights offered by this dataset,\n",
    "the model will serve as a critical component in a digital twin system, enhancing the ability\n",
    "to anticipate fire outbreaks and enabling proactive measures in fire-prone areas.\n",
    "\"\"\"\n"
   ]
  },
  {
   "cell_type": "markdown",
   "id": "a14f1151",
   "metadata": {},
   "source": [
    "**FWI System Components**\n",
    "5. FFMC: Fine Fuel Moisture Code (28.6 to 92.5)\n",
    "6. DMC: Duff Moisture Code (1.1 to 65.9)\n",
    "7. DC: Drought Code (7 to 220.4)\n",
    "8. ISI: Initial Spread Index (0 to 18.5)\n",
    "9. BUI: Buildup Index (1.1 to 68)\n",
    "10. FWI: Fire Weather Index (0 to 31.1)"
   ]
  },
  {
   "cell_type": "markdown",
   "id": "ba10a87f",
   "metadata": {
    "lines_to_next_cell": 2
   },
   "source": [
    "**Classification Outcome**\n",
    "\n",
    "- Fire or not Fire"
   ]
  },
  {
   "cell_type": "code",
   "execution_count": 2,
   "id": "bb0965cd",
   "metadata": {},
   "outputs": [],
   "source": [
    "import warnings\n",
    "warnings.filterwarnings(\"ignore\")\n",
    "# **Import Required Library**\n",
    "import numpy as np\n",
    "import pandas as pd\n",
    "import matplotlib.pyplot as plt\n",
    "import seaborn as sns\n",
    "from sklearn.model_selection import train_test_split\n",
    "from sklearn.preprocessing import StandardScaler\n",
    "from sklearn import metrics\n",
    "from sklearn.metrics import mean_squared_error, mean_absolute_error,mean_absolute_percentage_error, r2_score\n",
    "from sklearn.ensemble import RandomForestRegressor\n",
    "from sklearn.neighbors import KNeighborsRegressor\n",
    "from sklearn.model_selection import RandomizedSearchCV, GridSearchCV\n",
    "import bz2,pickle"
   ]
  },
  {
   "cell_type": "code",
   "execution_count": 3,
   "id": "45d52973",
   "metadata": {
    "lines_to_next_cell": 2
   },
   "outputs": [],
   "source": [
    "from sklearn.tree import DecisionTreeClassifier\n",
    "from sklearn.ensemble import RandomForestClassifier\n",
    "from sklearn.linear_model import LogisticRegression\n",
    "from sklearn.metrics import classification_report\n",
    "from sklearn.metrics import accuracy_score\n",
    "from sklearn.neighbors import KNeighborsClassifier\n",
    "from xgboost import XGBClassifier\n",
    "from sklearn.ensemble import RandomForestRegressor\n",
    "from sklearn.ensemble import RandomForestClassifier\n",
    "from sklearn.model_selection import StratifiedKFold, cross_val_score\n",
    "from sklearn.linear_model import LogisticRegression\n",
    "from sklearn.metrics import classification_report\n",
    "from sklearn.metrics import accuracy_score\n",
    "from sklearn.neighbors import KNeighborsClassifier\n",
    "from xgboost import XGBClassifier"
   ]
  },
  {
   "cell_type": "code",
   "execution_count": 4,
   "id": "d4b426b5",
   "metadata": {
    "lines_to_next_cell": 2
   },
   "outputs": [
    {
     "data": {
      "text/html": [
       "<div>\n",
       "<style scoped>\n",
       "    .dataframe tbody tr th:only-of-type {\n",
       "        vertical-align: middle;\n",
       "    }\n",
       "\n",
       "    .dataframe tbody tr th {\n",
       "        vertical-align: top;\n",
       "    }\n",
       "\n",
       "    .dataframe thead th {\n",
       "        text-align: right;\n",
       "    }\n",
       "</style>\n",
       "<table border=\"1\" class=\"dataframe\">\n",
       "  <thead>\n",
       "    <tr style=\"text-align: right;\">\n",
       "      <th></th>\n",
       "      <th>Temperature</th>\n",
       "      <th>RH</th>\n",
       "      <th>Ws</th>\n",
       "      <th>Rain</th>\n",
       "      <th>FFMC</th>\n",
       "      <th>DMC</th>\n",
       "      <th>DC</th>\n",
       "      <th>ISI</th>\n",
       "      <th>BUI</th>\n",
       "      <th>FWI</th>\n",
       "      <th>Classes</th>\n",
       "      <th>Region</th>\n",
       "    </tr>\n",
       "  </thead>\n",
       "  <tbody>\n",
       "    <tr>\n",
       "      <th>0</th>\n",
       "      <td>29</td>\n",
       "      <td>57</td>\n",
       "      <td>18</td>\n",
       "      <td>0.0</td>\n",
       "      <td>65.7</td>\n",
       "      <td>3.4</td>\n",
       "      <td>7.6</td>\n",
       "      <td>1.3</td>\n",
       "      <td>3.4</td>\n",
       "      <td>0.5</td>\n",
       "      <td>0</td>\n",
       "      <td>1</td>\n",
       "    </tr>\n",
       "    <tr>\n",
       "      <th>1</th>\n",
       "      <td>29</td>\n",
       "      <td>61</td>\n",
       "      <td>13</td>\n",
       "      <td>1.3</td>\n",
       "      <td>64.4</td>\n",
       "      <td>4.1</td>\n",
       "      <td>7.6</td>\n",
       "      <td>1.0</td>\n",
       "      <td>3.9</td>\n",
       "      <td>0.4</td>\n",
       "      <td>0</td>\n",
       "      <td>1</td>\n",
       "    </tr>\n",
       "    <tr>\n",
       "      <th>2</th>\n",
       "      <td>26</td>\n",
       "      <td>82</td>\n",
       "      <td>22</td>\n",
       "      <td>13.1</td>\n",
       "      <td>47.1</td>\n",
       "      <td>2.5</td>\n",
       "      <td>7.1</td>\n",
       "      <td>0.3</td>\n",
       "      <td>2.7</td>\n",
       "      <td>0.1</td>\n",
       "      <td>0</td>\n",
       "      <td>1</td>\n",
       "    </tr>\n",
       "    <tr>\n",
       "      <th>3</th>\n",
       "      <td>25</td>\n",
       "      <td>89</td>\n",
       "      <td>13</td>\n",
       "      <td>2.5</td>\n",
       "      <td>28.6</td>\n",
       "      <td>1.3</td>\n",
       "      <td>6.9</td>\n",
       "      <td>0.0</td>\n",
       "      <td>1.7</td>\n",
       "      <td>0.0</td>\n",
       "      <td>0</td>\n",
       "      <td>1</td>\n",
       "    </tr>\n",
       "    <tr>\n",
       "      <th>4</th>\n",
       "      <td>27</td>\n",
       "      <td>77</td>\n",
       "      <td>16</td>\n",
       "      <td>0.0</td>\n",
       "      <td>64.8</td>\n",
       "      <td>3.0</td>\n",
       "      <td>14.2</td>\n",
       "      <td>1.2</td>\n",
       "      <td>3.9</td>\n",
       "      <td>0.5</td>\n",
       "      <td>0</td>\n",
       "      <td>1</td>\n",
       "    </tr>\n",
       "    <tr>\n",
       "      <th>5</th>\n",
       "      <td>31</td>\n",
       "      <td>67</td>\n",
       "      <td>14</td>\n",
       "      <td>0.0</td>\n",
       "      <td>82.6</td>\n",
       "      <td>5.8</td>\n",
       "      <td>22.2</td>\n",
       "      <td>3.1</td>\n",
       "      <td>7.0</td>\n",
       "      <td>2.5</td>\n",
       "      <td>1</td>\n",
       "      <td>1</td>\n",
       "    </tr>\n",
       "    <tr>\n",
       "      <th>6</th>\n",
       "      <td>33</td>\n",
       "      <td>54</td>\n",
       "      <td>13</td>\n",
       "      <td>0.0</td>\n",
       "      <td>88.2</td>\n",
       "      <td>9.9</td>\n",
       "      <td>30.5</td>\n",
       "      <td>6.4</td>\n",
       "      <td>10.9</td>\n",
       "      <td>7.2</td>\n",
       "      <td>1</td>\n",
       "      <td>1</td>\n",
       "    </tr>\n",
       "    <tr>\n",
       "      <th>7</th>\n",
       "      <td>30</td>\n",
       "      <td>73</td>\n",
       "      <td>15</td>\n",
       "      <td>0.0</td>\n",
       "      <td>86.6</td>\n",
       "      <td>12.1</td>\n",
       "      <td>38.3</td>\n",
       "      <td>5.6</td>\n",
       "      <td>13.5</td>\n",
       "      <td>7.1</td>\n",
       "      <td>1</td>\n",
       "      <td>1</td>\n",
       "    </tr>\n",
       "    <tr>\n",
       "      <th>8</th>\n",
       "      <td>25</td>\n",
       "      <td>88</td>\n",
       "      <td>13</td>\n",
       "      <td>0.2</td>\n",
       "      <td>52.9</td>\n",
       "      <td>7.9</td>\n",
       "      <td>38.8</td>\n",
       "      <td>0.4</td>\n",
       "      <td>10.5</td>\n",
       "      <td>0.3</td>\n",
       "      <td>0</td>\n",
       "      <td>1</td>\n",
       "    </tr>\n",
       "    <tr>\n",
       "      <th>9</th>\n",
       "      <td>28</td>\n",
       "      <td>79</td>\n",
       "      <td>12</td>\n",
       "      <td>0.0</td>\n",
       "      <td>73.2</td>\n",
       "      <td>9.5</td>\n",
       "      <td>46.3</td>\n",
       "      <td>1.3</td>\n",
       "      <td>12.6</td>\n",
       "      <td>0.9</td>\n",
       "      <td>0</td>\n",
       "      <td>1</td>\n",
       "    </tr>\n",
       "  </tbody>\n",
       "</table>\n",
       "</div>"
      ],
      "text/plain": [
       "   Temperature  RH  Ws  Rain  FFMC   DMC    DC  ISI   BUI  FWI  Classes  \\\n",
       "0           29  57  18   0.0  65.7   3.4   7.6  1.3   3.4  0.5        0   \n",
       "1           29  61  13   1.3  64.4   4.1   7.6  1.0   3.9  0.4        0   \n",
       "2           26  82  22  13.1  47.1   2.5   7.1  0.3   2.7  0.1        0   \n",
       "3           25  89  13   2.5  28.6   1.3   6.9  0.0   1.7  0.0        0   \n",
       "4           27  77  16   0.0  64.8   3.0  14.2  1.2   3.9  0.5        0   \n",
       "5           31  67  14   0.0  82.6   5.8  22.2  3.1   7.0  2.5        1   \n",
       "6           33  54  13   0.0  88.2   9.9  30.5  6.4  10.9  7.2        1   \n",
       "7           30  73  15   0.0  86.6  12.1  38.3  5.6  13.5  7.1        1   \n",
       "8           25  88  13   0.2  52.9   7.9  38.8  0.4  10.5  0.3        0   \n",
       "9           28  79  12   0.0  73.2   9.5  46.3  1.3  12.6  0.9        0   \n",
       "\n",
       "   Region  \n",
       "0       1  \n",
       "1       1  \n",
       "2       1  \n",
       "3       1  \n",
       "4       1  \n",
       "5       1  \n",
       "6       1  \n",
       "7       1  \n",
       "8       1  \n",
       "9       1  "
      ]
     },
     "execution_count": 4,
     "metadata": {},
     "output_type": "execute_result"
    }
   ],
   "source": [
    "# Importing the dataset and dropping irrelevant features for analysis\n",
    "df1 = pd.read_csv('Algerian_forest_fire_cleaned-data.csv')\n",
    "# Days, months, and years are excluded from the analysis to focus on environmental factors\n",
    "df2 = df1.drop(['day','month','year'], axis=1)\n",
    "df2.head(10)"
   ]
  },
  {
   "cell_type": "code",
   "execution_count": 5,
   "id": "740b3b46",
   "metadata": {
    "lines_to_next_cell": 2
   },
   "outputs": [],
   "source": [
    "# Splitting dataset for regression to predict the Fire Weather Index (FWI)\n",
    "X = df2.iloc[:,0:10] # Input features\n",
    "y= df2['FWI'] # Target variable"
   ]
  },
  {
   "cell_type": "code",
   "execution_count": 6,
   "id": "7213df02",
   "metadata": {
    "lines_to_next_cell": 1
   },
   "outputs": [],
   "source": [
    "# Splitting the dataset into training and test sets\n",
    "X_train, X_test, y_train, y_test = train_test_split(X,y,test_size=0.25,random_state=0)"
   ]
  },
  {
   "cell_type": "code",
   "execution_count": 7,
   "id": "b93f411e",
   "metadata": {
    "lines_to_next_cell": 1
   },
   "outputs": [],
   "source": [
    "# Identifying features with high correlation to eliminate redundancy\n",
    "def correlation(dataset, threshold):\n",
    "    col_corr = set()\n",
    "    corr_matrix = dataset.corr()\n",
    "    for i in range(len(corr_matrix.columns)):\n",
    "        for j in range(i):\n",
    "            if abs(corr_matrix.iloc[i, j]) > threshold: \n",
    "                colname = corr_matrix.columns[i]\n",
    "                col_corr.add(colname)\n",
    "    return col_corr"
   ]
  },
  {
   "cell_type": "code",
   "execution_count": 8,
   "id": "531656b4",
   "metadata": {},
   "outputs": [
    {
     "data": {
      "text/plain": [
       "{'BUI', 'DC', 'FWI'}"
      ]
     },
     "execution_count": 8,
     "metadata": {},
     "output_type": "execute_result"
    }
   ],
   "source": [
    "corr_features = correlation(X_train, 0.8)\n",
    "corr_features"
   ]
  },
  {
   "cell_type": "code",
   "execution_count": 9,
   "id": "2214b6b5",
   "metadata": {
    "lines_to_next_cell": 1
   },
   "outputs": [
    {
     "data": {
      "text/plain": [
       "((182, 7), (61, 7))"
      ]
     },
     "execution_count": 9,
     "metadata": {},
     "output_type": "execute_result"
    }
   ],
   "source": [
    "# Removing features with correlation above 0.8 threshold\n",
    "X_train.drop(corr_features,axis=1, inplace=True)\n",
    "X_test.drop(corr_features,axis=1, inplace=True)\n",
    "X_train.shape, X_test.shape"
   ]
  },
  {
   "cell_type": "code",
   "execution_count": 10,
   "id": "9934c0d0",
   "metadata": {
    "lines_to_next_cell": 1
   },
   "outputs": [],
   "source": [
    "# Scaling features to standardize the dataset\n",
    "def scaler_standard(X_train, X_test):\n",
    "    scaler = StandardScaler()\n",
    "    X_train_scaled = scaler.fit_transform(X_train)\n",
    "    X_test_scaled = scaler.transform(X_test)\n",
    "    \n",
    "    return X_train_scaled, X_test_scaled"
   ]
  },
  {
   "cell_type": "code",
   "execution_count": 11,
   "id": "69e997a8",
   "metadata": {
    "lines_to_next_cell": 2
   },
   "outputs": [],
   "source": [
    "X_train_scaled, X_test_scaled = scaler_standard(X_train, X_test)"
   ]
  },
  {
   "cell_type": "code",
   "execution_count": 12,
   "id": "991a7dd1",
   "metadata": {},
   "outputs": [
    {
     "data": {
      "text/html": [
       "<style>#sk-container-id-1 {color: black;background-color: white;}#sk-container-id-1 pre{padding: 0;}#sk-container-id-1 div.sk-toggleable {background-color: white;}#sk-container-id-1 label.sk-toggleable__label {cursor: pointer;display: block;width: 100%;margin-bottom: 0;padding: 0.3em;box-sizing: border-box;text-align: center;}#sk-container-id-1 label.sk-toggleable__label-arrow:before {content: \"▸\";float: left;margin-right: 0.25em;color: #696969;}#sk-container-id-1 label.sk-toggleable__label-arrow:hover:before {color: black;}#sk-container-id-1 div.sk-estimator:hover label.sk-toggleable__label-arrow:before {color: black;}#sk-container-id-1 div.sk-toggleable__content {max-height: 0;max-width: 0;overflow: hidden;text-align: left;background-color: #f0f8ff;}#sk-container-id-1 div.sk-toggleable__content pre {margin: 0.2em;color: black;border-radius: 0.25em;background-color: #f0f8ff;}#sk-container-id-1 input.sk-toggleable__control:checked~div.sk-toggleable__content {max-height: 200px;max-width: 100%;overflow: auto;}#sk-container-id-1 input.sk-toggleable__control:checked~label.sk-toggleable__label-arrow:before {content: \"▾\";}#sk-container-id-1 div.sk-estimator input.sk-toggleable__control:checked~label.sk-toggleable__label {background-color: #d4ebff;}#sk-container-id-1 div.sk-label input.sk-toggleable__control:checked~label.sk-toggleable__label {background-color: #d4ebff;}#sk-container-id-1 input.sk-hidden--visually {border: 0;clip: rect(1px 1px 1px 1px);clip: rect(1px, 1px, 1px, 1px);height: 1px;margin: -1px;overflow: hidden;padding: 0;position: absolute;width: 1px;}#sk-container-id-1 div.sk-estimator {font-family: monospace;background-color: #f0f8ff;border: 1px dotted black;border-radius: 0.25em;box-sizing: border-box;margin-bottom: 0.5em;}#sk-container-id-1 div.sk-estimator:hover {background-color: #d4ebff;}#sk-container-id-1 div.sk-parallel-item::after {content: \"\";width: 100%;border-bottom: 1px solid gray;flex-grow: 1;}#sk-container-id-1 div.sk-label:hover label.sk-toggleable__label {background-color: #d4ebff;}#sk-container-id-1 div.sk-serial::before {content: \"\";position: absolute;border-left: 1px solid gray;box-sizing: border-box;top: 0;bottom: 0;left: 50%;z-index: 0;}#sk-container-id-1 div.sk-serial {display: flex;flex-direction: column;align-items: center;background-color: white;padding-right: 0.2em;padding-left: 0.2em;position: relative;}#sk-container-id-1 div.sk-item {position: relative;z-index: 1;}#sk-container-id-1 div.sk-parallel {display: flex;align-items: stretch;justify-content: center;background-color: white;position: relative;}#sk-container-id-1 div.sk-item::before, #sk-container-id-1 div.sk-parallel-item::before {content: \"\";position: absolute;border-left: 1px solid gray;box-sizing: border-box;top: 0;bottom: 0;left: 50%;z-index: -1;}#sk-container-id-1 div.sk-parallel-item {display: flex;flex-direction: column;z-index: 1;position: relative;background-color: white;}#sk-container-id-1 div.sk-parallel-item:first-child::after {align-self: flex-end;width: 50%;}#sk-container-id-1 div.sk-parallel-item:last-child::after {align-self: flex-start;width: 50%;}#sk-container-id-1 div.sk-parallel-item:only-child::after {width: 0;}#sk-container-id-1 div.sk-dashed-wrapped {border: 1px dashed gray;margin: 0 0.4em 0.5em 0.4em;box-sizing: border-box;padding-bottom: 0.4em;background-color: white;}#sk-container-id-1 div.sk-label label {font-family: monospace;font-weight: bold;display: inline-block;line-height: 1.2em;}#sk-container-id-1 div.sk-label-container {text-align: center;}#sk-container-id-1 div.sk-container {/* jupyter's `normalize.less` sets `[hidden] { display: none; }` but bootstrap.min.css set `[hidden] { display: none !important; }` so we also need the `!important` here to be able to override the default hidden behavior on the sphinx rendered scikit-learn.org. See: https://github.com/scikit-learn/scikit-learn/issues/21755 */display: inline-block !important;position: relative;}#sk-container-id-1 div.sk-text-repr-fallback {display: none;}</style><div id=\"sk-container-id-1\" class=\"sk-top-container\"><div class=\"sk-text-repr-fallback\"><pre>RandomForestRegressor()</pre><b>In a Jupyter environment, please rerun this cell to show the HTML representation or trust the notebook. <br />On GitHub, the HTML representation is unable to render, please try loading this page with nbviewer.org.</b></div><div class=\"sk-container\" hidden><div class=\"sk-item\"><div class=\"sk-estimator sk-toggleable\"><input class=\"sk-toggleable__control sk-hidden--visually\" id=\"sk-estimator-id-1\" type=\"checkbox\" checked><label for=\"sk-estimator-id-1\" class=\"sk-toggleable__label sk-toggleable__label-arrow\">RandomForestRegressor</label><div class=\"sk-toggleable__content\"><pre>RandomForestRegressor()</pre></div></div></div></div></div>"
      ],
      "text/plain": [
       "RandomForestRegressor()"
      ]
     },
     "execution_count": 12,
     "metadata": {},
     "output_type": "execute_result"
    }
   ],
   "source": [
    "# Training the Random Forest Regressor\n",
    "Random_Forest_Regressor = RandomForestRegressor()\n",
    "Random_Forest_Regressor.fit(X_train_scaled, y_train)"
   ]
  },
  {
   "cell_type": "code",
   "execution_count": 13,
   "id": "b0895e51",
   "metadata": {
    "lines_to_next_cell": 2
   },
   "outputs": [
    {
     "data": {
      "text/plain": [
       "array([1.0408e+01, 7.4950e+00, 7.3860e+00, 4.6730e+00, 8.1080e+00,\n",
       "       1.2431e+01, 2.3100e-01, 9.4950e+00, 6.0850e+00, 1.2801e+01,\n",
       "       1.5800e+00, 1.4396e+01, 6.3120e+00, 1.5753e+01, 7.1200e-01,\n",
       "       1.9300e-01, 1.2840e+00, 2.3180e+00, 5.3780e+00, 1.9600e-01,\n",
       "       4.9130e+00, 5.8890e+00, 2.3210e+00, 2.2300e-01, 2.7860e+00,\n",
       "       2.9300e+00, 1.0101e+01, 3.3200e-01, 1.5400e-01, 8.7700e-01,\n",
       "       1.5449e+01, 4.2900e-01, 2.6300e-01, 2.2061e+01, 5.1480e+00,\n",
       "       8.8300e-01, 9.3200e-01, 1.6326e+01, 2.7861e+01, 1.3610e+00,\n",
       "       6.8270e+00, 8.6700e-01, 1.0700e-01, 2.0250e+00, 8.7900e-01,\n",
       "       1.2000e-02, 3.4370e+00, 7.3270e+00, 1.4000e-02, 3.3750e+00,\n",
       "       5.1570e+00, 1.0709e+01, 1.2000e-02, 2.4160e+00, 6.5820e+00,\n",
       "       2.1010e+00, 1.2054e+01, 3.4320e+00, 3.4300e+00, 1.9086e+01,\n",
       "       3.3920e+00])"
      ]
     },
     "execution_count": 13,
     "metadata": {},
     "output_type": "execute_result"
    }
   ],
   "source": [
    "Random_Forest_Regressor_prediction = Random_Forest_Regressor.predict(X_test_scaled)\n",
    "Random_Forest_Regressor_prediction"
   ]
  },
  {
   "cell_type": "code",
   "execution_count": 14,
   "id": "6440daa6",
   "metadata": {},
   "outputs": [],
   "source": [
    "Actual_predicted = pd.DataFrame({'Actual Revenue': y_test, 'Predicted Revenue': Random_Forest_Regressor_prediction})    \n",
    "#Actual_predicted"
   ]
  },
  {
   "cell_type": "code",
   "execution_count": 15,
   "id": "9eb52d68",
   "metadata": {},
   "outputs": [],
   "source": [
    "meanAbErr = metrics.mean_absolute_error(y_test, Random_Forest_Regressor_prediction)\n",
    "meanSqErr = metrics.mean_squared_error(y_test, Random_Forest_Regressor_prediction)\n",
    "rootMeanSqErr = np.sqrt(metrics.mean_squared_error(y_test, Random_Forest_Regressor_prediction))"
   ]
  },
  {
   "cell_type": "code",
   "execution_count": 16,
   "id": "878ef890",
   "metadata": {
    "lines_to_next_cell": 2
   },
   "outputs": [
    {
     "name": "stdout",
     "output_type": "stream",
     "text": [
      "Mean Absolute Error: 0.5799508196721314\n",
      "Mean Square Error: 0.7116612622950819\n",
      "Root Mean Square Error: 0.8436001791696597\n"
     ]
    }
   ],
   "source": [
    "# Output the error metrics\n",
    "print('Mean Absolute Error:', meanAbErr)\n",
    "print('Mean Square Error:', meanSqErr)\n",
    "print('Root Mean Square Error:', rootMeanSqErr)"
   ]
  },
  {
   "cell_type": "code",
   "execution_count": 17,
   "id": "290e9f33",
   "metadata": {},
   "outputs": [
    {
     "name": "stdout",
     "output_type": "stream",
     "text": [
      "R-Square: 0.9794995337466419\n"
     ]
    }
   ],
   "source": [
    "# To find coefficient of determination\n",
    "r2 =  r2_score(y_test, Random_Forest_Regressor_prediction)\n",
    "print(\"R-Square:\",r2)"
   ]
  },
  {
   "cell_type": "code",
   "execution_count": 18,
   "id": "f7a2232a",
   "metadata": {},
   "outputs": [],
   "source": [
    "# Hyperparameter tuning for Random Forest Regressor\n",
    "param_grid =[{'bootstrap': [True, False],\n",
    "'max_depth': [10, 20, 30, 40, 50, 60, 70, 80, 90, 100, 110,120],\n",
    "'max_features': ['auto', 'sqrt'],\n",
    "'min_samples_leaf': [1, 3, 4],\n",
    "'min_samples_split': [2, 6, 10],\n",
    "'n_estimators': [5, 20, 50, 100]}]"
   ]
  },
  {
   "cell_type": "code",
   "execution_count": 19,
   "id": "001f1eb8",
   "metadata": {},
   "outputs": [
    {
     "name": "stdout",
     "output_type": "stream",
     "text": [
      "Fitting 10 folds for each of 10 candidates, totalling 100 fits\n"
     ]
    },
    {
     "data": {
      "text/html": [
       "<style>#sk-container-id-2 {color: black;background-color: white;}#sk-container-id-2 pre{padding: 0;}#sk-container-id-2 div.sk-toggleable {background-color: white;}#sk-container-id-2 label.sk-toggleable__label {cursor: pointer;display: block;width: 100%;margin-bottom: 0;padding: 0.3em;box-sizing: border-box;text-align: center;}#sk-container-id-2 label.sk-toggleable__label-arrow:before {content: \"▸\";float: left;margin-right: 0.25em;color: #696969;}#sk-container-id-2 label.sk-toggleable__label-arrow:hover:before {color: black;}#sk-container-id-2 div.sk-estimator:hover label.sk-toggleable__label-arrow:before {color: black;}#sk-container-id-2 div.sk-toggleable__content {max-height: 0;max-width: 0;overflow: hidden;text-align: left;background-color: #f0f8ff;}#sk-container-id-2 div.sk-toggleable__content pre {margin: 0.2em;color: black;border-radius: 0.25em;background-color: #f0f8ff;}#sk-container-id-2 input.sk-toggleable__control:checked~div.sk-toggleable__content {max-height: 200px;max-width: 100%;overflow: auto;}#sk-container-id-2 input.sk-toggleable__control:checked~label.sk-toggleable__label-arrow:before {content: \"▾\";}#sk-container-id-2 div.sk-estimator input.sk-toggleable__control:checked~label.sk-toggleable__label {background-color: #d4ebff;}#sk-container-id-2 div.sk-label input.sk-toggleable__control:checked~label.sk-toggleable__label {background-color: #d4ebff;}#sk-container-id-2 input.sk-hidden--visually {border: 0;clip: rect(1px 1px 1px 1px);clip: rect(1px, 1px, 1px, 1px);height: 1px;margin: -1px;overflow: hidden;padding: 0;position: absolute;width: 1px;}#sk-container-id-2 div.sk-estimator {font-family: monospace;background-color: #f0f8ff;border: 1px dotted black;border-radius: 0.25em;box-sizing: border-box;margin-bottom: 0.5em;}#sk-container-id-2 div.sk-estimator:hover {background-color: #d4ebff;}#sk-container-id-2 div.sk-parallel-item::after {content: \"\";width: 100%;border-bottom: 1px solid gray;flex-grow: 1;}#sk-container-id-2 div.sk-label:hover label.sk-toggleable__label {background-color: #d4ebff;}#sk-container-id-2 div.sk-serial::before {content: \"\";position: absolute;border-left: 1px solid gray;box-sizing: border-box;top: 0;bottom: 0;left: 50%;z-index: 0;}#sk-container-id-2 div.sk-serial {display: flex;flex-direction: column;align-items: center;background-color: white;padding-right: 0.2em;padding-left: 0.2em;position: relative;}#sk-container-id-2 div.sk-item {position: relative;z-index: 1;}#sk-container-id-2 div.sk-parallel {display: flex;align-items: stretch;justify-content: center;background-color: white;position: relative;}#sk-container-id-2 div.sk-item::before, #sk-container-id-2 div.sk-parallel-item::before {content: \"\";position: absolute;border-left: 1px solid gray;box-sizing: border-box;top: 0;bottom: 0;left: 50%;z-index: -1;}#sk-container-id-2 div.sk-parallel-item {display: flex;flex-direction: column;z-index: 1;position: relative;background-color: white;}#sk-container-id-2 div.sk-parallel-item:first-child::after {align-self: flex-end;width: 50%;}#sk-container-id-2 div.sk-parallel-item:last-child::after {align-self: flex-start;width: 50%;}#sk-container-id-2 div.sk-parallel-item:only-child::after {width: 0;}#sk-container-id-2 div.sk-dashed-wrapped {border: 1px dashed gray;margin: 0 0.4em 0.5em 0.4em;box-sizing: border-box;padding-bottom: 0.4em;background-color: white;}#sk-container-id-2 div.sk-label label {font-family: monospace;font-weight: bold;display: inline-block;line-height: 1.2em;}#sk-container-id-2 div.sk-label-container {text-align: center;}#sk-container-id-2 div.sk-container {/* jupyter's `normalize.less` sets `[hidden] { display: none; }` but bootstrap.min.css set `[hidden] { display: none !important; }` so we also need the `!important` here to be able to override the default hidden behavior on the sphinx rendered scikit-learn.org. See: https://github.com/scikit-learn/scikit-learn/issues/21755 */display: inline-block !important;position: relative;}#sk-container-id-2 div.sk-text-repr-fallback {display: none;}</style><div id=\"sk-container-id-2\" class=\"sk-top-container\"><div class=\"sk-text-repr-fallback\"><pre>RandomizedSearchCV(cv=10, estimator=RandomForestRegressor(), n_jobs=-1,\n",
       "                   param_distributions=[{&#x27;bootstrap&#x27;: [True, False],\n",
       "                                         &#x27;max_depth&#x27;: [10, 20, 30, 40, 50, 60,\n",
       "                                                       70, 80, 90, 100, 110,\n",
       "                                                       120],\n",
       "                                         &#x27;max_features&#x27;: [&#x27;auto&#x27;, &#x27;sqrt&#x27;],\n",
       "                                         &#x27;min_samples_leaf&#x27;: [1, 3, 4],\n",
       "                                         &#x27;min_samples_split&#x27;: [2, 6, 10],\n",
       "                                         &#x27;n_estimators&#x27;: [5, 20, 50, 100]}],\n",
       "                   verbose=2)</pre><b>In a Jupyter environment, please rerun this cell to show the HTML representation or trust the notebook. <br />On GitHub, the HTML representation is unable to render, please try loading this page with nbviewer.org.</b></div><div class=\"sk-container\" hidden><div class=\"sk-item sk-dashed-wrapped\"><div class=\"sk-label-container\"><div class=\"sk-label sk-toggleable\"><input class=\"sk-toggleable__control sk-hidden--visually\" id=\"sk-estimator-id-2\" type=\"checkbox\" ><label for=\"sk-estimator-id-2\" class=\"sk-toggleable__label sk-toggleable__label-arrow\">RandomizedSearchCV</label><div class=\"sk-toggleable__content\"><pre>RandomizedSearchCV(cv=10, estimator=RandomForestRegressor(), n_jobs=-1,\n",
       "                   param_distributions=[{&#x27;bootstrap&#x27;: [True, False],\n",
       "                                         &#x27;max_depth&#x27;: [10, 20, 30, 40, 50, 60,\n",
       "                                                       70, 80, 90, 100, 110,\n",
       "                                                       120],\n",
       "                                         &#x27;max_features&#x27;: [&#x27;auto&#x27;, &#x27;sqrt&#x27;],\n",
       "                                         &#x27;min_samples_leaf&#x27;: [1, 3, 4],\n",
       "                                         &#x27;min_samples_split&#x27;: [2, 6, 10],\n",
       "                                         &#x27;n_estimators&#x27;: [5, 20, 50, 100]}],\n",
       "                   verbose=2)</pre></div></div></div><div class=\"sk-parallel\"><div class=\"sk-parallel-item\"><div class=\"sk-item\"><div class=\"sk-label-container\"><div class=\"sk-label sk-toggleable\"><input class=\"sk-toggleable__control sk-hidden--visually\" id=\"sk-estimator-id-3\" type=\"checkbox\" ><label for=\"sk-estimator-id-3\" class=\"sk-toggleable__label sk-toggleable__label-arrow\">estimator: RandomForestRegressor</label><div class=\"sk-toggleable__content\"><pre>RandomForestRegressor()</pre></div></div></div><div class=\"sk-serial\"><div class=\"sk-item\"><div class=\"sk-estimator sk-toggleable\"><input class=\"sk-toggleable__control sk-hidden--visually\" id=\"sk-estimator-id-4\" type=\"checkbox\" ><label for=\"sk-estimator-id-4\" class=\"sk-toggleable__label sk-toggleable__label-arrow\">RandomForestRegressor</label><div class=\"sk-toggleable__content\"><pre>RandomForestRegressor()</pre></div></div></div></div></div></div></div></div></div></div>"
      ],
      "text/plain": [
       "RandomizedSearchCV(cv=10, estimator=RandomForestRegressor(), n_jobs=-1,\n",
       "                   param_distributions=[{'bootstrap': [True, False],\n",
       "                                         'max_depth': [10, 20, 30, 40, 50, 60,\n",
       "                                                       70, 80, 90, 100, 110,\n",
       "                                                       120],\n",
       "                                         'max_features': ['auto', 'sqrt'],\n",
       "                                         'min_samples_leaf': [1, 3, 4],\n",
       "                                         'min_samples_split': [2, 6, 10],\n",
       "                                         'n_estimators': [5, 20, 50, 100]}],\n",
       "                   verbose=2)"
      ]
     },
     "execution_count": 19,
     "metadata": {},
     "output_type": "execute_result"
    }
   ],
   "source": [
    "Random_Forest_Regressor = RandomForestRegressor()\n",
    "Random_rf = RandomizedSearchCV(Random_Forest_Regressor,param_grid, cv = 10, verbose=2,n_jobs = -1)\n",
    "Random_rf.fit(X_train_scaled, y_train)"
   ]
  },
  {
   "cell_type": "code",
   "execution_count": 20,
   "id": "e69e7d03",
   "metadata": {},
   "outputs": [],
   "source": [
    "best_random_grid=Random_rf.best_estimator_"
   ]
  },
  {
   "cell_type": "code",
   "execution_count": 21,
   "id": "e23fa4e0",
   "metadata": {},
   "outputs": [
    {
     "data": {
      "text/plain": [
       "array([1.0745e+01, 6.9330e+00, 7.8730e+00, 4.4840e+00, 8.5300e+00,\n",
       "       1.2751e+01, 2.6200e-01, 9.9490e+00, 5.2410e+00, 1.3157e+01,\n",
       "       1.3920e+00, 1.3714e+01, 5.6050e+00, 1.8699e+01, 7.3300e-01,\n",
       "       2.7800e-01, 1.4270e+00, 2.1080e+00, 4.6430e+00, 3.8200e-01,\n",
       "       5.6650e+00, 6.7640e+00, 3.1260e+00, 2.7000e-01, 2.7520e+00,\n",
       "       2.8900e+00, 1.0440e+01, 3.5400e-01, 1.8100e-01, 1.1610e+00,\n",
       "       1.7619e+01, 4.1900e-01, 2.7900e-01, 2.1230e+01, 5.0670e+00,\n",
       "       9.3800e-01, 9.1100e-01, 1.4268e+01, 2.7275e+01, 1.5930e+00,\n",
       "       7.8620e+00, 8.8000e-01, 1.1600e-01, 2.3100e+00, 8.3800e-01,\n",
       "       1.6000e-02, 3.5690e+00, 7.6040e+00, 3.3300e-01, 4.1590e+00,\n",
       "       5.0920e+00, 1.1443e+01, 1.3000e-02, 2.1060e+00, 7.0200e+00,\n",
       "       2.2480e+00, 1.2414e+01, 3.5770e+00, 4.0210e+00, 1.8558e+01,\n",
       "       3.3090e+00])"
      ]
     },
     "execution_count": 21,
     "metadata": {},
     "output_type": "execute_result"
    }
   ],
   "source": [
    "bestrf_pred = best_random_grid.predict(X_test_scaled)\n",
    "bestrf_pred"
   ]
  },
  {
   "cell_type": "code",
   "execution_count": 22,
   "id": "6e273302",
   "metadata": {
    "lines_to_next_cell": 2
   },
   "outputs": [],
   "source": [
    "Actual_predicted = pd.DataFrame({'Actual Revenue': y_test, 'Predicted Revenue': bestrf_pred})    \n",
    "#Actual_predicted"
   ]
  },
  {
   "cell_type": "code",
   "execution_count": 23,
   "id": "e2289dfb",
   "metadata": {},
   "outputs": [
    {
     "data": {
      "text/html": [
       "<div>\n",
       "<style scoped>\n",
       "    .dataframe tbody tr th:only-of-type {\n",
       "        vertical-align: middle;\n",
       "    }\n",
       "\n",
       "    .dataframe tbody tr th {\n",
       "        vertical-align: top;\n",
       "    }\n",
       "\n",
       "    .dataframe thead th {\n",
       "        text-align: right;\n",
       "    }\n",
       "</style>\n",
       "<table border=\"1\" class=\"dataframe\">\n",
       "  <thead>\n",
       "    <tr style=\"text-align: right;\">\n",
       "      <th></th>\n",
       "      <th>feature</th>\n",
       "      <th>importance</th>\n",
       "    </tr>\n",
       "  </thead>\n",
       "  <tbody>\n",
       "    <tr>\n",
       "      <th>6</th>\n",
       "      <td>ISI</td>\n",
       "      <td>0.363494</td>\n",
       "    </tr>\n",
       "    <tr>\n",
       "      <th>4</th>\n",
       "      <td>FFMC</td>\n",
       "      <td>0.244298</td>\n",
       "    </tr>\n",
       "    <tr>\n",
       "      <th>5</th>\n",
       "      <td>DMC</td>\n",
       "      <td>0.189525</td>\n",
       "    </tr>\n",
       "    <tr>\n",
       "      <th>3</th>\n",
       "      <td>Rain</td>\n",
       "      <td>0.087751</td>\n",
       "    </tr>\n",
       "    <tr>\n",
       "      <th>0</th>\n",
       "      <td>Temperature</td>\n",
       "      <td>0.050297</td>\n",
       "    </tr>\n",
       "    <tr>\n",
       "      <th>1</th>\n",
       "      <td>RH</td>\n",
       "      <td>0.049196</td>\n",
       "    </tr>\n",
       "    <tr>\n",
       "      <th>2</th>\n",
       "      <td>Ws</td>\n",
       "      <td>0.015438</td>\n",
       "    </tr>\n",
       "  </tbody>\n",
       "</table>\n",
       "</div>"
      ],
      "text/plain": [
       "       feature  importance\n",
       "6          ISI    0.363494\n",
       "4         FFMC    0.244298\n",
       "5          DMC    0.189525\n",
       "3         Rain    0.087751\n",
       "0  Temperature    0.050297\n",
       "1           RH    0.049196\n",
       "2           Ws    0.015438"
      ]
     },
     "execution_count": 23,
     "metadata": {},
     "output_type": "execute_result"
    }
   ],
   "source": [
    "# Feature selection for deployment based on importance\n",
    "feature_importances = Random_rf.best_estimator_.feature_importances_\n",
    "importance_df = pd.DataFrame({\n",
    "    'feature': X_train.columns,\n",
    "    'importance': feature_importances\n",
    "}).sort_values('importance', ascending=False)\n",
    "importance_df"
   ]
  },
  {
   "cell_type": "code",
   "execution_count": 24,
   "id": "474763db",
   "metadata": {},
   "outputs": [],
   "source": [
    "# Training final model with selected features\n",
    "X_train_new = X_train.drop(['Rain', 'RH'], axis=1)\n",
    "X_test_new = X_test.drop(['Rain', 'RH'], axis=1)"
   ]
  },
  {
   "cell_type": "code",
   "execution_count": 25,
   "id": "dd7e3ff6",
   "metadata": {},
   "outputs": [],
   "source": [
    "X_train_new_scaled, X_test_new_scaled = scaler_standard(X_train_new, X_test_new)"
   ]
  },
  {
   "cell_type": "code",
   "execution_count": 26,
   "id": "06908037",
   "metadata": {
    "lines_to_next_cell": 2
   },
   "outputs": [
    {
     "data": {
      "text/plain": [
       "array([1.0379e+01, 7.2700e+00, 8.1380e+00, 4.7540e+00, 8.5370e+00,\n",
       "       1.2327e+01, 2.5000e-01, 8.9680e+00, 6.0580e+00, 1.3172e+01,\n",
       "       1.3370e+00, 1.4522e+01, 6.1140e+00, 1.7187e+01, 6.0700e-01,\n",
       "       2.1600e-01, 1.4800e+00, 2.0890e+00, 4.4710e+00, 2.6700e-01,\n",
       "       6.9170e+00, 6.0280e+00, 3.3730e+00, 2.5200e-01, 2.7610e+00,\n",
       "       2.9280e+00, 1.0916e+01, 3.2400e-01, 1.6000e-01, 9.9000e-01,\n",
       "       1.7427e+01, 4.1300e-01, 2.7300e-01, 2.1667e+01, 4.7420e+00,\n",
       "       8.2700e-01, 8.2700e-01, 1.5124e+01, 2.7523e+01, 1.4800e+00,\n",
       "       7.2700e+00, 7.9500e-01, 9.1000e-02, 1.8680e+00, 8.7000e-01,\n",
       "       2.3000e-02, 3.4940e+00, 7.2080e+00, 4.0000e-03, 5.1600e+00,\n",
       "       4.7910e+00, 1.0839e+01, 2.5000e-02, 2.2570e+00, 6.7280e+00,\n",
       "       2.1000e+00, 1.1494e+01, 3.5060e+00, 3.3760e+00, 1.8937e+01,\n",
       "       3.2210e+00])"
      ]
     },
     "execution_count": 26,
     "metadata": {},
     "output_type": "execute_result"
    }
   ],
   "source": [
    "best_random_grid.fit(X_train_new_scaled, y_train)\n",
    "bestrf_pred = best_random_grid.predict(X_test_new_scaled)\n",
    "bestrf_pred"
   ]
  },
  {
   "cell_type": "markdown",
   "id": "54770252",
   "metadata": {},
   "source": [
    "**Classification**"
   ]
  },
  {
   "cell_type": "code",
   "execution_count": 27,
   "id": "a5edb4e2",
   "metadata": {},
   "outputs": [],
   "source": [
    "# Preparing the input features (X) and the target variable (y)\n",
    "X = df2.iloc[:, 0:10]\n",
    "y = df2['Classes']"
   ]
  },
  {
   "cell_type": "code",
   "execution_count": 28,
   "id": "8a66c06b",
   "metadata": {
    "lines_to_next_cell": 2
   },
   "outputs": [
    {
     "data": {
      "text/plain": [
       "((170, 10), (73, 10))"
      ]
     },
     "execution_count": 28,
     "metadata": {},
     "output_type": "execute_result"
    }
   ],
   "source": [
    "# Splitting the dataset into a training set and a test set with a 70-30 split\n",
    "X_train, X_test, y_train, y_test = train_test_split(X,y,test_size=0.3,random_state=0)\n",
    "X_train.shape, X_test.shape"
   ]
  },
  {
   "cell_type": "code",
   "execution_count": 29,
   "id": "ab6ab518",
   "metadata": {},
   "outputs": [],
   "source": [
    "# Identifying and removing features with high correlation to prevent multicollinearity\n",
    "corr_features = correlation(X_train, 0.8)  # Correlation threshold set at 0.8\n",
    "X_train.drop(corr_features, axis=1, inplace=True)  # Dropping correlated features from training set\n",
    "X_test.drop(corr_features, axis=1, inplace=True)   # Dropping correlated features from test set"
   ]
  },
  {
   "cell_type": "code",
   "execution_count": 30,
   "id": "35c9f661",
   "metadata": {},
   "outputs": [],
   "source": [
    "# Standardizing the features to have zero mean and unit variance\n",
    "X_train_scaled, X_test_scaled = scaler_standard(X_train, X_test)"
   ]
  },
  {
   "cell_type": "markdown",
   "id": "f7a95b64",
   "metadata": {},
   "source": [
    "**Logistic Regression Model Training**"
   ]
  },
  {
   "cell_type": "code",
   "execution_count": 31,
   "id": "aeb7c274",
   "metadata": {},
   "outputs": [
    {
     "data": {
      "text/html": [
       "<style>#sk-container-id-3 {color: black;background-color: white;}#sk-container-id-3 pre{padding: 0;}#sk-container-id-3 div.sk-toggleable {background-color: white;}#sk-container-id-3 label.sk-toggleable__label {cursor: pointer;display: block;width: 100%;margin-bottom: 0;padding: 0.3em;box-sizing: border-box;text-align: center;}#sk-container-id-3 label.sk-toggleable__label-arrow:before {content: \"▸\";float: left;margin-right: 0.25em;color: #696969;}#sk-container-id-3 label.sk-toggleable__label-arrow:hover:before {color: black;}#sk-container-id-3 div.sk-estimator:hover label.sk-toggleable__label-arrow:before {color: black;}#sk-container-id-3 div.sk-toggleable__content {max-height: 0;max-width: 0;overflow: hidden;text-align: left;background-color: #f0f8ff;}#sk-container-id-3 div.sk-toggleable__content pre {margin: 0.2em;color: black;border-radius: 0.25em;background-color: #f0f8ff;}#sk-container-id-3 input.sk-toggleable__control:checked~div.sk-toggleable__content {max-height: 200px;max-width: 100%;overflow: auto;}#sk-container-id-3 input.sk-toggleable__control:checked~label.sk-toggleable__label-arrow:before {content: \"▾\";}#sk-container-id-3 div.sk-estimator input.sk-toggleable__control:checked~label.sk-toggleable__label {background-color: #d4ebff;}#sk-container-id-3 div.sk-label input.sk-toggleable__control:checked~label.sk-toggleable__label {background-color: #d4ebff;}#sk-container-id-3 input.sk-hidden--visually {border: 0;clip: rect(1px 1px 1px 1px);clip: rect(1px, 1px, 1px, 1px);height: 1px;margin: -1px;overflow: hidden;padding: 0;position: absolute;width: 1px;}#sk-container-id-3 div.sk-estimator {font-family: monospace;background-color: #f0f8ff;border: 1px dotted black;border-radius: 0.25em;box-sizing: border-box;margin-bottom: 0.5em;}#sk-container-id-3 div.sk-estimator:hover {background-color: #d4ebff;}#sk-container-id-3 div.sk-parallel-item::after {content: \"\";width: 100%;border-bottom: 1px solid gray;flex-grow: 1;}#sk-container-id-3 div.sk-label:hover label.sk-toggleable__label {background-color: #d4ebff;}#sk-container-id-3 div.sk-serial::before {content: \"\";position: absolute;border-left: 1px solid gray;box-sizing: border-box;top: 0;bottom: 0;left: 50%;z-index: 0;}#sk-container-id-3 div.sk-serial {display: flex;flex-direction: column;align-items: center;background-color: white;padding-right: 0.2em;padding-left: 0.2em;position: relative;}#sk-container-id-3 div.sk-item {position: relative;z-index: 1;}#sk-container-id-3 div.sk-parallel {display: flex;align-items: stretch;justify-content: center;background-color: white;position: relative;}#sk-container-id-3 div.sk-item::before, #sk-container-id-3 div.sk-parallel-item::before {content: \"\";position: absolute;border-left: 1px solid gray;box-sizing: border-box;top: 0;bottom: 0;left: 50%;z-index: -1;}#sk-container-id-3 div.sk-parallel-item {display: flex;flex-direction: column;z-index: 1;position: relative;background-color: white;}#sk-container-id-3 div.sk-parallel-item:first-child::after {align-self: flex-end;width: 50%;}#sk-container-id-3 div.sk-parallel-item:last-child::after {align-self: flex-start;width: 50%;}#sk-container-id-3 div.sk-parallel-item:only-child::after {width: 0;}#sk-container-id-3 div.sk-dashed-wrapped {border: 1px dashed gray;margin: 0 0.4em 0.5em 0.4em;box-sizing: border-box;padding-bottom: 0.4em;background-color: white;}#sk-container-id-3 div.sk-label label {font-family: monospace;font-weight: bold;display: inline-block;line-height: 1.2em;}#sk-container-id-3 div.sk-label-container {text-align: center;}#sk-container-id-3 div.sk-container {/* jupyter's `normalize.less` sets `[hidden] { display: none; }` but bootstrap.min.css set `[hidden] { display: none !important; }` so we also need the `!important` here to be able to override the default hidden behavior on the sphinx rendered scikit-learn.org. See: https://github.com/scikit-learn/scikit-learn/issues/21755 */display: inline-block !important;position: relative;}#sk-container-id-3 div.sk-text-repr-fallback {display: none;}</style><div id=\"sk-container-id-3\" class=\"sk-top-container\"><div class=\"sk-text-repr-fallback\"><pre>LogisticRegression()</pre><b>In a Jupyter environment, please rerun this cell to show the HTML representation or trust the notebook. <br />On GitHub, the HTML representation is unable to render, please try loading this page with nbviewer.org.</b></div><div class=\"sk-container\" hidden><div class=\"sk-item\"><div class=\"sk-estimator sk-toggleable\"><input class=\"sk-toggleable__control sk-hidden--visually\" id=\"sk-estimator-id-5\" type=\"checkbox\" checked><label for=\"sk-estimator-id-5\" class=\"sk-toggleable__label sk-toggleable__label-arrow\">LogisticRegression</label><div class=\"sk-toggleable__content\"><pre>LogisticRegression()</pre></div></div></div></div></div>"
      ],
      "text/plain": [
       "LogisticRegression()"
      ]
     },
     "execution_count": 31,
     "metadata": {},
     "output_type": "execute_result"
    }
   ],
   "source": [
    "# Initializing the Logistic Regression model and training it on the scaled training data\n",
    "Logistic_Regression  = LogisticRegression()\n",
    "Logistic_Regression.fit(X_train_scaled,y_train)"
   ]
  },
  {
   "cell_type": "code",
   "execution_count": 32,
   "id": "34480238",
   "metadata": {},
   "outputs": [
    {
     "name": "stdout",
     "output_type": "stream",
     "text": [
      "Intercept is : [0.64908314]\n",
      "Coefficient is : [[-0.00930744  0.24687675 -0.22764197 -0.53826457  2.53955465  0.9313307\n",
      "   2.75456708]]\n",
      "Training Score: 0.9705882352941176\n",
      "Test Score: 0.9178082191780822\n"
     ]
    }
   ],
   "source": [
    "print('Intercept is :',Logistic_Regression.intercept_)\n",
    "print('Coefficient is :',Logistic_Regression.coef_)\n",
    "print(\"Training Score:\",Logistic_Regression.score(X_train_scaled, y_train))\n",
    "print(\"Test Score:\",Logistic_Regression.score(X_test_scaled,y_test))"
   ]
  },
  {
   "cell_type": "code",
   "execution_count": 33,
   "id": "c50d738a",
   "metadata": {},
   "outputs": [
    {
     "data": {
      "text/plain": [
       "array([1, 1, 1, 1, 1, 1, 0, 1, 1, 1, 0, 1, 1, 1, 0, 0, 0, 0, 1, 0, 1, 1,\n",
       "       0, 0, 1, 0, 1, 0, 0, 0, 1, 0, 0, 1, 1, 0, 0, 1, 1, 0, 1, 0, 0, 0,\n",
       "       0, 0, 0, 1, 0, 1, 1, 1, 0, 0, 1, 0, 1, 0, 0, 1, 1, 1, 0, 1, 1, 1,\n",
       "       0, 0, 1, 1, 1, 0, 1], dtype=int64)"
      ]
     },
     "execution_count": 33,
     "metadata": {},
     "output_type": "execute_result"
    }
   ],
   "source": [
    "Logistic_Regression_Prediction = Logistic_Regression.predict(X_test_scaled)\n",
    "Logistic_Regression_Prediction"
   ]
  },
  {
   "cell_type": "code",
   "execution_count": 34,
   "id": "37816f0d",
   "metadata": {},
   "outputs": [],
   "source": [
    "# Comparing the actual class labels with the predicted ones\n",
    "Actual_predicted = pd.DataFrame({'Actual Revenue': y_test, 'Predicted Revenue': Logistic_Regression_Prediction})    \n",
    "#Actual_predicted\n",
    "Score = accuracy_score(y_test,Logistic_Regression_Prediction)\n",
    "Classification_Report = classification_report(y_test,Logistic_Regression_Prediction)"
   ]
  },
  {
   "cell_type": "code",
   "execution_count": 35,
   "id": "a3a4b759",
   "metadata": {},
   "outputs": [
    {
     "name": "stdout",
     "output_type": "stream",
     "text": [
      "Logistic Regression\n",
      "Accuracy Score value: 0.9178\n",
      "              precision    recall  f1-score   support\n",
      "\n",
      "           0       0.85      0.97      0.91        30\n",
      "           1       0.97      0.88      0.93        43\n",
      "\n",
      "    accuracy                           0.92        73\n",
      "   macro avg       0.91      0.93      0.92        73\n",
      "weighted avg       0.92      0.92      0.92        73\n",
      "\n"
     ]
    }
   ],
   "source": [
    "print(\"Logistic Regression\")\n",
    "print (\"Accuracy Score value: {:.4f}\".format(Score))\n",
    "print (Classification_Report)"
   ]
  },
  {
   "cell_type": "markdown",
   "id": "a0b20917",
   "metadata": {},
   "source": [
    "Precision: Measures the accuracy of positive predictions.\n",
    "Recall: Measures the coverage of actual positive cases.\n",
    "F1 Score: Harmonic mean of precision and recall, a balance between the two."
   ]
  },
  {
   "cell_type": "code",
   "execution_count": 36,
   "id": "4a754b76",
   "metadata": {},
   "outputs": [
    {
     "data": {
      "text/plain": [
       "array([1, 1, 1, 1, 1, 1, 0, 1, 1, 1, 0, 1, 1, 1, 0, 0, 0, 0, 1, 0, 1, 1,\n",
       "       0, 0, 1, 1, 1, 0, 0, 0, 1, 0, 0, 1, 1, 0, 0, 1, 1, 0, 1, 0, 0, 0,\n",
       "       0, 0, 1, 1, 0, 0, 1, 1, 0, 1, 1, 0, 1, 1, 1, 1, 1, 1, 0, 1, 1, 1,\n",
       "       0, 0, 1, 1, 1, 0, 1], dtype=int64)"
      ]
     },
     "execution_count": 36,
     "metadata": {},
     "output_type": "execute_result"
    }
   ],
   "source": [
    "# **Decision Tree Classifier**\n",
    "# Initialize and train the Decision Tree Classifier model\n",
    "Decision_Tree_Classifier = DecisionTreeClassifier()\n",
    "Decision_Tree_Classifier.fit(X_train_scaled,y_train)\n",
    "Decision_Tree_Classifier_prediction = Decision_Tree_Classifier.predict(X_test_scaled)\n",
    "Decision_Tree_Classifier_prediction"
   ]
  },
  {
   "cell_type": "code",
   "execution_count": 37,
   "id": "77bfb24d",
   "metadata": {},
   "outputs": [
    {
     "name": "stdout",
     "output_type": "stream",
     "text": [
      "Decision Tree\n",
      "Accuracy Score value: 1.0000\n",
      "              precision    recall  f1-score   support\n",
      "\n",
      "           0       1.00      1.00      1.00        30\n",
      "           1       1.00      1.00      1.00        43\n",
      "\n",
      "    accuracy                           1.00        73\n",
      "   macro avg       1.00      1.00      1.00        73\n",
      "weighted avg       1.00      1.00      1.00        73\n",
      "\n"
     ]
    }
   ],
   "source": [
    "Actual_predicted = pd.DataFrame({'Actual Revenue': y_test, 'Predicted Revenue': Decision_Tree_Classifier_prediction})    \n",
    "#Actual_predicted\n",
    "Score = accuracy_score(y_test,Decision_Tree_Classifier_prediction)\n",
    "Classification_Report = classification_report(y_test,Decision_Tree_Classifier_prediction)\n",
    "print(\"Decision Tree\")\n",
    "print (\"Accuracy Score value: {:.4f}\".format(Score))\n",
    "print (Classification_Report)"
   ]
  },
  {
   "cell_type": "code",
   "execution_count": 38,
   "id": "dfaea798",
   "metadata": {},
   "outputs": [
    {
     "data": {
      "text/html": [
       "<style>#sk-container-id-4 {color: black;background-color: white;}#sk-container-id-4 pre{padding: 0;}#sk-container-id-4 div.sk-toggleable {background-color: white;}#sk-container-id-4 label.sk-toggleable__label {cursor: pointer;display: block;width: 100%;margin-bottom: 0;padding: 0.3em;box-sizing: border-box;text-align: center;}#sk-container-id-4 label.sk-toggleable__label-arrow:before {content: \"▸\";float: left;margin-right: 0.25em;color: #696969;}#sk-container-id-4 label.sk-toggleable__label-arrow:hover:before {color: black;}#sk-container-id-4 div.sk-estimator:hover label.sk-toggleable__label-arrow:before {color: black;}#sk-container-id-4 div.sk-toggleable__content {max-height: 0;max-width: 0;overflow: hidden;text-align: left;background-color: #f0f8ff;}#sk-container-id-4 div.sk-toggleable__content pre {margin: 0.2em;color: black;border-radius: 0.25em;background-color: #f0f8ff;}#sk-container-id-4 input.sk-toggleable__control:checked~div.sk-toggleable__content {max-height: 200px;max-width: 100%;overflow: auto;}#sk-container-id-4 input.sk-toggleable__control:checked~label.sk-toggleable__label-arrow:before {content: \"▾\";}#sk-container-id-4 div.sk-estimator input.sk-toggleable__control:checked~label.sk-toggleable__label {background-color: #d4ebff;}#sk-container-id-4 div.sk-label input.sk-toggleable__control:checked~label.sk-toggleable__label {background-color: #d4ebff;}#sk-container-id-4 input.sk-hidden--visually {border: 0;clip: rect(1px 1px 1px 1px);clip: rect(1px, 1px, 1px, 1px);height: 1px;margin: -1px;overflow: hidden;padding: 0;position: absolute;width: 1px;}#sk-container-id-4 div.sk-estimator {font-family: monospace;background-color: #f0f8ff;border: 1px dotted black;border-radius: 0.25em;box-sizing: border-box;margin-bottom: 0.5em;}#sk-container-id-4 div.sk-estimator:hover {background-color: #d4ebff;}#sk-container-id-4 div.sk-parallel-item::after {content: \"\";width: 100%;border-bottom: 1px solid gray;flex-grow: 1;}#sk-container-id-4 div.sk-label:hover label.sk-toggleable__label {background-color: #d4ebff;}#sk-container-id-4 div.sk-serial::before {content: \"\";position: absolute;border-left: 1px solid gray;box-sizing: border-box;top: 0;bottom: 0;left: 50%;z-index: 0;}#sk-container-id-4 div.sk-serial {display: flex;flex-direction: column;align-items: center;background-color: white;padding-right: 0.2em;padding-left: 0.2em;position: relative;}#sk-container-id-4 div.sk-item {position: relative;z-index: 1;}#sk-container-id-4 div.sk-parallel {display: flex;align-items: stretch;justify-content: center;background-color: white;position: relative;}#sk-container-id-4 div.sk-item::before, #sk-container-id-4 div.sk-parallel-item::before {content: \"\";position: absolute;border-left: 1px solid gray;box-sizing: border-box;top: 0;bottom: 0;left: 50%;z-index: -1;}#sk-container-id-4 div.sk-parallel-item {display: flex;flex-direction: column;z-index: 1;position: relative;background-color: white;}#sk-container-id-4 div.sk-parallel-item:first-child::after {align-self: flex-end;width: 50%;}#sk-container-id-4 div.sk-parallel-item:last-child::after {align-self: flex-start;width: 50%;}#sk-container-id-4 div.sk-parallel-item:only-child::after {width: 0;}#sk-container-id-4 div.sk-dashed-wrapped {border: 1px dashed gray;margin: 0 0.4em 0.5em 0.4em;box-sizing: border-box;padding-bottom: 0.4em;background-color: white;}#sk-container-id-4 div.sk-label label {font-family: monospace;font-weight: bold;display: inline-block;line-height: 1.2em;}#sk-container-id-4 div.sk-label-container {text-align: center;}#sk-container-id-4 div.sk-container {/* jupyter's `normalize.less` sets `[hidden] { display: none; }` but bootstrap.min.css set `[hidden] { display: none !important; }` so we also need the `!important` here to be able to override the default hidden behavior on the sphinx rendered scikit-learn.org. See: https://github.com/scikit-learn/scikit-learn/issues/21755 */display: inline-block !important;position: relative;}#sk-container-id-4 div.sk-text-repr-fallback {display: none;}</style><div id=\"sk-container-id-4\" class=\"sk-top-container\"><div class=\"sk-text-repr-fallback\"><pre>RandomForestClassifier()</pre><b>In a Jupyter environment, please rerun this cell to show the HTML representation or trust the notebook. <br />On GitHub, the HTML representation is unable to render, please try loading this page with nbviewer.org.</b></div><div class=\"sk-container\" hidden><div class=\"sk-item\"><div class=\"sk-estimator sk-toggleable\"><input class=\"sk-toggleable__control sk-hidden--visually\" id=\"sk-estimator-id-6\" type=\"checkbox\" checked><label for=\"sk-estimator-id-6\" class=\"sk-toggleable__label sk-toggleable__label-arrow\">RandomForestClassifier</label><div class=\"sk-toggleable__content\"><pre>RandomForestClassifier()</pre></div></div></div></div></div>"
      ],
      "text/plain": [
       "RandomForestClassifier()"
      ]
     },
     "execution_count": 38,
     "metadata": {},
     "output_type": "execute_result"
    }
   ],
   "source": [
    "# **Random Forest Classifier**\n",
    "# Initialize and train the Random Forest Classifier model\n",
    "Random_Forest_Classifier = RandomForestClassifier()\n",
    "Random_Forest_Classifier.fit(X_train_scaled,y_train)"
   ]
  },
  {
   "cell_type": "code",
   "execution_count": 39,
   "id": "3bc4eafa",
   "metadata": {},
   "outputs": [
    {
     "name": "stdout",
     "output_type": "stream",
     "text": [
      "Training Score: 1.0\n",
      "Test Score: 0.9726027397260274\n"
     ]
    }
   ],
   "source": [
    "print(\"Training Score:\",Random_Forest_Classifier.score(X_train_scaled, y_train))\n",
    "print(\"Test Score:\",Random_Forest_Classifier.score(X_test_scaled,y_test))"
   ]
  },
  {
   "cell_type": "code",
   "execution_count": 40,
   "id": "21c17210",
   "metadata": {},
   "outputs": [],
   "source": [
    "Random_Forest_Classifier_prediction = Random_Forest_Classifier.predict(X_test_scaled)\n",
    "Random_Forest_Classifier_prediction\n",
    "Actual_predicted = pd.DataFrame({'Actual Revenue': y_test, 'Predicted Revenue': Random_Forest_Classifier_prediction})    \n",
    "#Actual_predicted"
   ]
  },
  {
   "cell_type": "code",
   "execution_count": 41,
   "id": "205e7fbe",
   "metadata": {
    "lines_to_next_cell": 2
   },
   "outputs": [
    {
     "name": "stdout",
     "output_type": "stream",
     "text": [
      "Random Forest\n",
      "Accuracy Score value: 0.9726\n",
      "              precision    recall  f1-score   support\n",
      "\n",
      "           0       0.94      1.00      0.97        30\n",
      "           1       1.00      0.95      0.98        43\n",
      "\n",
      "    accuracy                           0.97        73\n",
      "   macro avg       0.97      0.98      0.97        73\n",
      "weighted avg       0.97      0.97      0.97        73\n",
      "\n"
     ]
    }
   ],
   "source": [
    "Score = accuracy_score(y_test,Random_Forest_Classifier_prediction)\n",
    "Classification_Report = classification_report(y_test,Random_Forest_Classifier_prediction)\n",
    "print(\"Random Forest\")\n",
    "print (\"Accuracy Score value: {:.4f}\".format(Score))\n",
    "print (Classification_Report)"
   ]
  },
  {
   "cell_type": "code",
   "execution_count": 42,
   "id": "f344844f",
   "metadata": {},
   "outputs": [
    {
     "name": "stdout",
     "output_type": "stream",
     "text": [
      "Training Score: 0.9647058823529412\n",
      "Test Score: 0.9315068493150684\n"
     ]
    }
   ],
   "source": [
    "# **K-Nearest Neighbors Classifier**\n",
    "# Initialize and train the K-Nearest Neighbors Classifier\n",
    "K_Neighbors_Classifier = KNeighborsClassifier()\n",
    "K_Neighbors_Classifier.fit(X_train_scaled,y_train)\n",
    "print(\"Training Score:\",K_Neighbors_Classifier.score(X_train_scaled, y_train))\n",
    "print(\"Test Score:\",K_Neighbors_Classifier.score(X_test_scaled,y_test))"
   ]
  },
  {
   "cell_type": "code",
   "execution_count": 43,
   "id": "03f8804d",
   "metadata": {},
   "outputs": [
    {
     "name": "stdout",
     "output_type": "stream",
     "text": [
      "KNeighbors Classifier\n",
      "Accuracy Score value: 0.9315\n",
      "              precision    recall  f1-score   support\n",
      "\n",
      "           0       0.90      0.93      0.92        30\n",
      "           1       0.95      0.93      0.94        43\n",
      "\n",
      "    accuracy                           0.93        73\n",
      "   macro avg       0.93      0.93      0.93        73\n",
      "weighted avg       0.93      0.93      0.93        73\n",
      "\n"
     ]
    }
   ],
   "source": [
    "K_Neighbors_Classifier_prediction = K_Neighbors_Classifier.predict(X_test_scaled)\n",
    "K_Neighbors_Classifier_prediction\n",
    "Actual_predicted = pd.DataFrame({'Actual Revenue': y_test, 'Predicted Revenue': K_Neighbors_Classifier_prediction})    \n",
    "#Actual_predicted\n",
    "Score = accuracy_score(y_test,K_Neighbors_Classifier_prediction)\n",
    "Classification_Report = classification_report(y_test,K_Neighbors_Classifier_prediction)\n",
    "print(\"KNeighbors Classifier\")\n",
    "print (\"Accuracy Score value: {:.4f}\".format(Score))\n",
    "print (Classification_Report)"
   ]
  },
  {
   "cell_type": "code",
   "execution_count": 44,
   "id": "ed52e8ee",
   "metadata": {},
   "outputs": [
    {
     "data": {
      "text/html": [
       "<style>#sk-container-id-5 {color: black;background-color: white;}#sk-container-id-5 pre{padding: 0;}#sk-container-id-5 div.sk-toggleable {background-color: white;}#sk-container-id-5 label.sk-toggleable__label {cursor: pointer;display: block;width: 100%;margin-bottom: 0;padding: 0.3em;box-sizing: border-box;text-align: center;}#sk-container-id-5 label.sk-toggleable__label-arrow:before {content: \"▸\";float: left;margin-right: 0.25em;color: #696969;}#sk-container-id-5 label.sk-toggleable__label-arrow:hover:before {color: black;}#sk-container-id-5 div.sk-estimator:hover label.sk-toggleable__label-arrow:before {color: black;}#sk-container-id-5 div.sk-toggleable__content {max-height: 0;max-width: 0;overflow: hidden;text-align: left;background-color: #f0f8ff;}#sk-container-id-5 div.sk-toggleable__content pre {margin: 0.2em;color: black;border-radius: 0.25em;background-color: #f0f8ff;}#sk-container-id-5 input.sk-toggleable__control:checked~div.sk-toggleable__content {max-height: 200px;max-width: 100%;overflow: auto;}#sk-container-id-5 input.sk-toggleable__control:checked~label.sk-toggleable__label-arrow:before {content: \"▾\";}#sk-container-id-5 div.sk-estimator input.sk-toggleable__control:checked~label.sk-toggleable__label {background-color: #d4ebff;}#sk-container-id-5 div.sk-label input.sk-toggleable__control:checked~label.sk-toggleable__label {background-color: #d4ebff;}#sk-container-id-5 input.sk-hidden--visually {border: 0;clip: rect(1px 1px 1px 1px);clip: rect(1px, 1px, 1px, 1px);height: 1px;margin: -1px;overflow: hidden;padding: 0;position: absolute;width: 1px;}#sk-container-id-5 div.sk-estimator {font-family: monospace;background-color: #f0f8ff;border: 1px dotted black;border-radius: 0.25em;box-sizing: border-box;margin-bottom: 0.5em;}#sk-container-id-5 div.sk-estimator:hover {background-color: #d4ebff;}#sk-container-id-5 div.sk-parallel-item::after {content: \"\";width: 100%;border-bottom: 1px solid gray;flex-grow: 1;}#sk-container-id-5 div.sk-label:hover label.sk-toggleable__label {background-color: #d4ebff;}#sk-container-id-5 div.sk-serial::before {content: \"\";position: absolute;border-left: 1px solid gray;box-sizing: border-box;top: 0;bottom: 0;left: 50%;z-index: 0;}#sk-container-id-5 div.sk-serial {display: flex;flex-direction: column;align-items: center;background-color: white;padding-right: 0.2em;padding-left: 0.2em;position: relative;}#sk-container-id-5 div.sk-item {position: relative;z-index: 1;}#sk-container-id-5 div.sk-parallel {display: flex;align-items: stretch;justify-content: center;background-color: white;position: relative;}#sk-container-id-5 div.sk-item::before, #sk-container-id-5 div.sk-parallel-item::before {content: \"\";position: absolute;border-left: 1px solid gray;box-sizing: border-box;top: 0;bottom: 0;left: 50%;z-index: -1;}#sk-container-id-5 div.sk-parallel-item {display: flex;flex-direction: column;z-index: 1;position: relative;background-color: white;}#sk-container-id-5 div.sk-parallel-item:first-child::after {align-self: flex-end;width: 50%;}#sk-container-id-5 div.sk-parallel-item:last-child::after {align-self: flex-start;width: 50%;}#sk-container-id-5 div.sk-parallel-item:only-child::after {width: 0;}#sk-container-id-5 div.sk-dashed-wrapped {border: 1px dashed gray;margin: 0 0.4em 0.5em 0.4em;box-sizing: border-box;padding-bottom: 0.4em;background-color: white;}#sk-container-id-5 div.sk-label label {font-family: monospace;font-weight: bold;display: inline-block;line-height: 1.2em;}#sk-container-id-5 div.sk-label-container {text-align: center;}#sk-container-id-5 div.sk-container {/* jupyter's `normalize.less` sets `[hidden] { display: none; }` but bootstrap.min.css set `[hidden] { display: none !important; }` so we also need the `!important` here to be able to override the default hidden behavior on the sphinx rendered scikit-learn.org. See: https://github.com/scikit-learn/scikit-learn/issues/21755 */display: inline-block !important;position: relative;}#sk-container-id-5 div.sk-text-repr-fallback {display: none;}</style><div id=\"sk-container-id-5\" class=\"sk-top-container\"><div class=\"sk-text-repr-fallback\"><pre>XGBClassifier(base_score=None, booster=None, callbacks=None,\n",
       "              colsample_bylevel=None, colsample_bynode=None,\n",
       "              colsample_bytree=None, device=None, early_stopping_rounds=None,\n",
       "              enable_categorical=False, eval_metric=None, feature_types=None,\n",
       "              gamma=None, grow_policy=None, importance_type=None,\n",
       "              interaction_constraints=None, learning_rate=None, max_bin=None,\n",
       "              max_cat_threshold=None, max_cat_to_onehot=None,\n",
       "              max_delta_step=None, max_depth=None, max_leaves=None,\n",
       "              min_child_weight=None, missing=nan, monotone_constraints=None,\n",
       "              multi_strategy=None, n_estimators=None, n_jobs=None,\n",
       "              num_parallel_tree=None, random_state=None, ...)</pre><b>In a Jupyter environment, please rerun this cell to show the HTML representation or trust the notebook. <br />On GitHub, the HTML representation is unable to render, please try loading this page with nbviewer.org.</b></div><div class=\"sk-container\" hidden><div class=\"sk-item\"><div class=\"sk-estimator sk-toggleable\"><input class=\"sk-toggleable__control sk-hidden--visually\" id=\"sk-estimator-id-7\" type=\"checkbox\" checked><label for=\"sk-estimator-id-7\" class=\"sk-toggleable__label sk-toggleable__label-arrow\">XGBClassifier</label><div class=\"sk-toggleable__content\"><pre>XGBClassifier(base_score=None, booster=None, callbacks=None,\n",
       "              colsample_bylevel=None, colsample_bynode=None,\n",
       "              colsample_bytree=None, device=None, early_stopping_rounds=None,\n",
       "              enable_categorical=False, eval_metric=None, feature_types=None,\n",
       "              gamma=None, grow_policy=None, importance_type=None,\n",
       "              interaction_constraints=None, learning_rate=None, max_bin=None,\n",
       "              max_cat_threshold=None, max_cat_to_onehot=None,\n",
       "              max_delta_step=None, max_depth=None, max_leaves=None,\n",
       "              min_child_weight=None, missing=nan, monotone_constraints=None,\n",
       "              multi_strategy=None, n_estimators=None, n_jobs=None,\n",
       "              num_parallel_tree=None, random_state=None, ...)</pre></div></div></div></div></div>"
      ],
      "text/plain": [
       "XGBClassifier(base_score=None, booster=None, callbacks=None,\n",
       "              colsample_bylevel=None, colsample_bynode=None,\n",
       "              colsample_bytree=None, device=None, early_stopping_rounds=None,\n",
       "              enable_categorical=False, eval_metric=None, feature_types=None,\n",
       "              gamma=None, grow_policy=None, importance_type=None,\n",
       "              interaction_constraints=None, learning_rate=None, max_bin=None,\n",
       "              max_cat_threshold=None, max_cat_to_onehot=None,\n",
       "              max_delta_step=None, max_depth=None, max_leaves=None,\n",
       "              min_child_weight=None, missing=nan, monotone_constraints=None,\n",
       "              multi_strategy=None, n_estimators=None, n_jobs=None,\n",
       "              num_parallel_tree=None, random_state=None, ...)"
      ]
     },
     "execution_count": 44,
     "metadata": {},
     "output_type": "execute_result"
    }
   ],
   "source": [
    "# **XGBoost Classifier**\n",
    "# Initialize and train the XGBoost Classifier model\n",
    "xgb = XGBClassifier()\n",
    "xgb.fit(X_train_scaled,y_train)"
   ]
  },
  {
   "cell_type": "code",
   "execution_count": 45,
   "id": "739adc10",
   "metadata": {},
   "outputs": [
    {
     "name": "stdout",
     "output_type": "stream",
     "text": [
      "Training Score: 0.9941176470588236\n",
      "Test Score: 0.9726027397260274\n"
     ]
    },
    {
     "data": {
      "text/plain": [
       "array([1, 1, 1, 1, 1, 1, 0, 1, 1, 1, 0, 1, 1, 1, 0, 0, 0, 0, 1, 0, 1, 1,\n",
       "       0, 0, 1, 1, 1, 0, 0, 0, 1, 0, 0, 1, 1, 0, 0, 1, 1, 0, 1, 0, 0, 0,\n",
       "       0, 0, 1, 1, 0, 0, 1, 1, 0, 0, 1, 0, 1, 1, 0, 1, 1, 1, 0, 1, 1, 1,\n",
       "       0, 0, 1, 1, 1, 0, 1])"
      ]
     },
     "execution_count": 45,
     "metadata": {},
     "output_type": "execute_result"
    }
   ],
   "source": [
    "print(\"Training Score:\",xgb.score(X_train_scaled, y_train))\n",
    "print(\"Test Score:\",xgb.score(X_test_scaled,y_test))\n",
    "xgb_predic = xgb.predict(X_test_scaled)\n",
    "xgb_predic"
   ]
  },
  {
   "cell_type": "code",
   "execution_count": 46,
   "id": "6468b7a4",
   "metadata": {},
   "outputs": [
    {
     "name": "stdout",
     "output_type": "stream",
     "text": [
      "XGboost Classifier\n",
      "Accuracy Score value: 0.9726\n",
      "              precision    recall  f1-score   support\n",
      "\n",
      "           0       0.94      1.00      0.97        30\n",
      "           1       1.00      0.95      0.98        43\n",
      "\n",
      "    accuracy                           0.97        73\n",
      "   macro avg       0.97      0.98      0.97        73\n",
      "weighted avg       0.97      0.97      0.97        73\n",
      "\n"
     ]
    }
   ],
   "source": [
    "Actual_predicted = pd.DataFrame({'Actual Revenue': y_test, 'Predicted Revenue': xgb_predic})    \n",
    "#Actual_predicted\n",
    "Score = accuracy_score(y_test, xgb_predic)\n",
    "Classification_Report = classification_report(y_test, xgb_predic)\n",
    "print(\"XGboost Classifier\")\n",
    "print (\"Accuracy Score value: {:.4f}\".format(Score))\n",
    "print (Classification_Report)"
   ]
  },
  {
   "cell_type": "markdown",
   "id": "a8c66ce0",
   "metadata": {},
   "source": [
    "**Accuracy Score Results Summary**"
   ]
  },
  {
   "cell_type": "code",
   "execution_count": 47,
   "id": "14b8b34d",
   "metadata": {
    "lines_to_next_cell": 2
   },
   "outputs": [
    {
     "data": {
      "text/plain": [
       "'\\n| Models                  | Accuracy score |\\n| ----------------------- | -------------- |\\n| Logistic Regression     | 91.78%         |\\n| Decision Tree           | 94.52%         |\\n| Random Forest           | 97.26%         |\\n| K-Neighbors Classifier  | 93.15%         |\\n| XGBoost Classifier      | 97.26%         |\\n'"
      ]
     },
     "execution_count": 47,
     "metadata": {},
     "output_type": "execute_result"
    }
   ],
   "source": [
    "# The summary table below shows the accuracy scores for different classifiers \n",
    "# based on the test dataset. These results help in determining the best model \n",
    "\"\"\"\n",
    "| Models                  | Accuracy score |\n",
    "| ----------------------- | -------------- |\n",
    "| Logistic Regression     | 91.78%         |\n",
    "| Decision Tree           | 94.52%         |\n",
    "| Random Forest           | 97.26%         |\n",
    "| K-Neighbors Classifier  | 93.15%         |\n",
    "| XGBoost Classifier      | 97.26%         |\n",
    "\"\"\""
   ]
  },
  {
   "cell_type": "markdown",
   "id": "42a79720",
   "metadata": {},
   "source": [
    "Hyperparameter Tuning and Model Selection"
   ]
  },
  {
   "cell_type": "code",
   "execution_count": 48,
   "id": "a47c18e0",
   "metadata": {},
   "outputs": [],
   "source": [
    "# **Hyperparameter Tuning for XGBoost Classifier**\n",
    "params={\n",
    " \"learning_rate\"    : (np.linspace(0,10, 100)) ,\n",
    " \"max_depth\"        : (np.linspace(1,50, 25,dtype=int)),\n",
    " \"min_child_weight\" : [1, 3, 5, 7],\n",
    " \"gamma\"            : [0.0, 0.1, 0.2 , 0.3, 0.4],\n",
    " \"colsample_bytree\" : [0.3, 0.4, 0.5 , 0.7]}"
   ]
  },
  {
   "cell_type": "code",
   "execution_count": 49,
   "id": "ed133af5",
   "metadata": {},
   "outputs": [
    {
     "data": {
      "text/html": [
       "<style>#sk-container-id-6 {color: black;background-color: white;}#sk-container-id-6 pre{padding: 0;}#sk-container-id-6 div.sk-toggleable {background-color: white;}#sk-container-id-6 label.sk-toggleable__label {cursor: pointer;display: block;width: 100%;margin-bottom: 0;padding: 0.3em;box-sizing: border-box;text-align: center;}#sk-container-id-6 label.sk-toggleable__label-arrow:before {content: \"▸\";float: left;margin-right: 0.25em;color: #696969;}#sk-container-id-6 label.sk-toggleable__label-arrow:hover:before {color: black;}#sk-container-id-6 div.sk-estimator:hover label.sk-toggleable__label-arrow:before {color: black;}#sk-container-id-6 div.sk-toggleable__content {max-height: 0;max-width: 0;overflow: hidden;text-align: left;background-color: #f0f8ff;}#sk-container-id-6 div.sk-toggleable__content pre {margin: 0.2em;color: black;border-radius: 0.25em;background-color: #f0f8ff;}#sk-container-id-6 input.sk-toggleable__control:checked~div.sk-toggleable__content {max-height: 200px;max-width: 100%;overflow: auto;}#sk-container-id-6 input.sk-toggleable__control:checked~label.sk-toggleable__label-arrow:before {content: \"▾\";}#sk-container-id-6 div.sk-estimator input.sk-toggleable__control:checked~label.sk-toggleable__label {background-color: #d4ebff;}#sk-container-id-6 div.sk-label input.sk-toggleable__control:checked~label.sk-toggleable__label {background-color: #d4ebff;}#sk-container-id-6 input.sk-hidden--visually {border: 0;clip: rect(1px 1px 1px 1px);clip: rect(1px, 1px, 1px, 1px);height: 1px;margin: -1px;overflow: hidden;padding: 0;position: absolute;width: 1px;}#sk-container-id-6 div.sk-estimator {font-family: monospace;background-color: #f0f8ff;border: 1px dotted black;border-radius: 0.25em;box-sizing: border-box;margin-bottom: 0.5em;}#sk-container-id-6 div.sk-estimator:hover {background-color: #d4ebff;}#sk-container-id-6 div.sk-parallel-item::after {content: \"\";width: 100%;border-bottom: 1px solid gray;flex-grow: 1;}#sk-container-id-6 div.sk-label:hover label.sk-toggleable__label {background-color: #d4ebff;}#sk-container-id-6 div.sk-serial::before {content: \"\";position: absolute;border-left: 1px solid gray;box-sizing: border-box;top: 0;bottom: 0;left: 50%;z-index: 0;}#sk-container-id-6 div.sk-serial {display: flex;flex-direction: column;align-items: center;background-color: white;padding-right: 0.2em;padding-left: 0.2em;position: relative;}#sk-container-id-6 div.sk-item {position: relative;z-index: 1;}#sk-container-id-6 div.sk-parallel {display: flex;align-items: stretch;justify-content: center;background-color: white;position: relative;}#sk-container-id-6 div.sk-item::before, #sk-container-id-6 div.sk-parallel-item::before {content: \"\";position: absolute;border-left: 1px solid gray;box-sizing: border-box;top: 0;bottom: 0;left: 50%;z-index: -1;}#sk-container-id-6 div.sk-parallel-item {display: flex;flex-direction: column;z-index: 1;position: relative;background-color: white;}#sk-container-id-6 div.sk-parallel-item:first-child::after {align-self: flex-end;width: 50%;}#sk-container-id-6 div.sk-parallel-item:last-child::after {align-self: flex-start;width: 50%;}#sk-container-id-6 div.sk-parallel-item:only-child::after {width: 0;}#sk-container-id-6 div.sk-dashed-wrapped {border: 1px dashed gray;margin: 0 0.4em 0.5em 0.4em;box-sizing: border-box;padding-bottom: 0.4em;background-color: white;}#sk-container-id-6 div.sk-label label {font-family: monospace;font-weight: bold;display: inline-block;line-height: 1.2em;}#sk-container-id-6 div.sk-label-container {text-align: center;}#sk-container-id-6 div.sk-container {/* jupyter's `normalize.less` sets `[hidden] { display: none; }` but bootstrap.min.css set `[hidden] { display: none !important; }` so we also need the `!important` here to be able to override the default hidden behavior on the sphinx rendered scikit-learn.org. See: https://github.com/scikit-learn/scikit-learn/issues/21755 */display: inline-block !important;position: relative;}#sk-container-id-6 div.sk-text-repr-fallback {display: none;}</style><div id=\"sk-container-id-6\" class=\"sk-top-container\"><div class=\"sk-text-repr-fallback\"><pre>XGBClassifier(base_score=None, booster=None, callbacks=None,\n",
       "              colsample_bylevel=None, colsample_bynode=None,\n",
       "              colsample_bytree=0.3, device=None, early_stopping_rounds=None,\n",
       "              enable_categorical=False, eval_metric=None, feature_types=None,\n",
       "              gamma=0.1, grow_policy=None, importance_type=None,\n",
       "              interaction_constraints=None, learning_rate=2.929292929292929,\n",
       "              max_bin=None, max_cat_threshold=None, max_cat_to_onehot=None,\n",
       "              max_delta_step=None, max_depth=19, max_leaves=None,\n",
       "              min_child_weight=3, missing=nan, monotone_constraints=None,\n",
       "              multi_strategy=None, n_estimators=None, n_jobs=None,\n",
       "              num_parallel_tree=None, random_state=None, ...)</pre><b>In a Jupyter environment, please rerun this cell to show the HTML representation or trust the notebook. <br />On GitHub, the HTML representation is unable to render, please try loading this page with nbviewer.org.</b></div><div class=\"sk-container\" hidden><div class=\"sk-item\"><div class=\"sk-estimator sk-toggleable\"><input class=\"sk-toggleable__control sk-hidden--visually\" id=\"sk-estimator-id-8\" type=\"checkbox\" checked><label for=\"sk-estimator-id-8\" class=\"sk-toggleable__label sk-toggleable__label-arrow\">XGBClassifier</label><div class=\"sk-toggleable__content\"><pre>XGBClassifier(base_score=None, booster=None, callbacks=None,\n",
       "              colsample_bylevel=None, colsample_bynode=None,\n",
       "              colsample_bytree=0.3, device=None, early_stopping_rounds=None,\n",
       "              enable_categorical=False, eval_metric=None, feature_types=None,\n",
       "              gamma=0.1, grow_policy=None, importance_type=None,\n",
       "              interaction_constraints=None, learning_rate=2.929292929292929,\n",
       "              max_bin=None, max_cat_threshold=None, max_cat_to_onehot=None,\n",
       "              max_delta_step=None, max_depth=19, max_leaves=None,\n",
       "              min_child_weight=3, missing=nan, monotone_constraints=None,\n",
       "              multi_strategy=None, n_estimators=None, n_jobs=None,\n",
       "              num_parallel_tree=None, random_state=None, ...)</pre></div></div></div></div></div>"
      ],
      "text/plain": [
       "XGBClassifier(base_score=None, booster=None, callbacks=None,\n",
       "              colsample_bylevel=None, colsample_bynode=None,\n",
       "              colsample_bytree=0.3, device=None, early_stopping_rounds=None,\n",
       "              enable_categorical=False, eval_metric=None, feature_types=None,\n",
       "              gamma=0.1, grow_policy=None, importance_type=None,\n",
       "              interaction_constraints=None, learning_rate=2.929292929292929,\n",
       "              max_bin=None, max_cat_threshold=None, max_cat_to_onehot=None,\n",
       "              max_delta_step=None, max_depth=19, max_leaves=None,\n",
       "              min_child_weight=3, missing=nan, monotone_constraints=None,\n",
       "              multi_strategy=None, n_estimators=None, n_jobs=None,\n",
       "              num_parallel_tree=None, random_state=None, ...)"
      ]
     },
     "execution_count": 49,
     "metadata": {},
     "output_type": "execute_result"
    }
   ],
   "source": [
    "# Initialize the RandomizedSearchCV object to perform hyperparameter tuning\n",
    "Random_xgb = RandomizedSearchCV(xgb, params, cv = 10,n_jobs = -1)\n",
    "Random_xgb.fit(X_train_scaled, y_train).best_estimator_"
   ]
  },
  {
   "cell_type": "code",
   "execution_count": 50,
   "id": "d6198f69",
   "metadata": {},
   "outputs": [
    {
     "data": {
      "text/plain": [
       "0.9041095890410958"
      ]
     },
     "execution_count": 50,
     "metadata": {},
     "output_type": "execute_result"
    }
   ],
   "source": [
    "# Select the best estimator\n",
    "Best_xgb = Random_xgb.best_estimator_\n",
    "Best_xgb.score(X_test_scaled,y_test)"
   ]
  },
  {
   "cell_type": "code",
   "execution_count": 51,
   "id": "9e8ce32c",
   "metadata": {},
   "outputs": [
    {
     "name": "stdout",
     "output_type": "stream",
     "text": [
      "Best XGBoost Classifier - Accuracy Score: 0.9041\n",
      "              precision    recall  f1-score   support\n",
      "\n",
      "           0       0.81      1.00      0.90        30\n",
      "           1       1.00      0.84      0.91        43\n",
      "\n",
      "    accuracy                           0.90        73\n",
      "   macro avg       0.91      0.92      0.90        73\n",
      "weighted avg       0.92      0.90      0.90        73\n",
      "\n"
     ]
    }
   ],
   "source": [
    "# Predict and evaluate the best XGBoost model\n",
    "Bestxgb_prediction = Best_xgb.predict(X_test_scaled)\n",
    "Actual_predicted = pd.DataFrame({'Actual Revenue': y_test, 'Predicted Revenue': Bestxgb_prediction})    \n",
    "#Actual_predicted\n",
    "xgb_score = accuracy_score(y_test, Bestxgb_prediction)\n",
    "xgb_report = classification_report(y_test, Bestxgb_prediction)\n",
    "print(\"Best XGBoost Classifier - Accuracy Score: {:.4f}\".format(xgb_score))\n",
    "print(xgb_report)"
   ]
  },
  {
   "cell_type": "code",
   "execution_count": 52,
   "id": "e88072ef",
   "metadata": {},
   "outputs": [],
   "source": [
    "# **Hyperparameter Tuning for Random Forest Classifier**\n",
    "# Define a parameter grid to search for the best parameters for Random Forest\n",
    "rf_params = {\n",
    "    \"n_estimators\": [90, 100, 115, 130],\n",
    "    \"criterion\": ['gini', 'entropy'],\n",
    "    \"max_depth\": range(2, 20, 1),\n",
    "    \"min_samples_leaf\": range(1, 10, 1),\n",
    "    \"min_samples_split\": range(2, 10, 1),\n",
    "    \"max_features\": ['auto', 'log2']\n",
    "}"
   ]
  },
  {
   "cell_type": "code",
   "execution_count": 53,
   "id": "d7b2d77c",
   "metadata": {},
   "outputs": [
    {
     "data": {
      "text/html": [
       "<style>#sk-container-id-7 {color: black;background-color: white;}#sk-container-id-7 pre{padding: 0;}#sk-container-id-7 div.sk-toggleable {background-color: white;}#sk-container-id-7 label.sk-toggleable__label {cursor: pointer;display: block;width: 100%;margin-bottom: 0;padding: 0.3em;box-sizing: border-box;text-align: center;}#sk-container-id-7 label.sk-toggleable__label-arrow:before {content: \"▸\";float: left;margin-right: 0.25em;color: #696969;}#sk-container-id-7 label.sk-toggleable__label-arrow:hover:before {color: black;}#sk-container-id-7 div.sk-estimator:hover label.sk-toggleable__label-arrow:before {color: black;}#sk-container-id-7 div.sk-toggleable__content {max-height: 0;max-width: 0;overflow: hidden;text-align: left;background-color: #f0f8ff;}#sk-container-id-7 div.sk-toggleable__content pre {margin: 0.2em;color: black;border-radius: 0.25em;background-color: #f0f8ff;}#sk-container-id-7 input.sk-toggleable__control:checked~div.sk-toggleable__content {max-height: 200px;max-width: 100%;overflow: auto;}#sk-container-id-7 input.sk-toggleable__control:checked~label.sk-toggleable__label-arrow:before {content: \"▾\";}#sk-container-id-7 div.sk-estimator input.sk-toggleable__control:checked~label.sk-toggleable__label {background-color: #d4ebff;}#sk-container-id-7 div.sk-label input.sk-toggleable__control:checked~label.sk-toggleable__label {background-color: #d4ebff;}#sk-container-id-7 input.sk-hidden--visually {border: 0;clip: rect(1px 1px 1px 1px);clip: rect(1px, 1px, 1px, 1px);height: 1px;margin: -1px;overflow: hidden;padding: 0;position: absolute;width: 1px;}#sk-container-id-7 div.sk-estimator {font-family: monospace;background-color: #f0f8ff;border: 1px dotted black;border-radius: 0.25em;box-sizing: border-box;margin-bottom: 0.5em;}#sk-container-id-7 div.sk-estimator:hover {background-color: #d4ebff;}#sk-container-id-7 div.sk-parallel-item::after {content: \"\";width: 100%;border-bottom: 1px solid gray;flex-grow: 1;}#sk-container-id-7 div.sk-label:hover label.sk-toggleable__label {background-color: #d4ebff;}#sk-container-id-7 div.sk-serial::before {content: \"\";position: absolute;border-left: 1px solid gray;box-sizing: border-box;top: 0;bottom: 0;left: 50%;z-index: 0;}#sk-container-id-7 div.sk-serial {display: flex;flex-direction: column;align-items: center;background-color: white;padding-right: 0.2em;padding-left: 0.2em;position: relative;}#sk-container-id-7 div.sk-item {position: relative;z-index: 1;}#sk-container-id-7 div.sk-parallel {display: flex;align-items: stretch;justify-content: center;background-color: white;position: relative;}#sk-container-id-7 div.sk-item::before, #sk-container-id-7 div.sk-parallel-item::before {content: \"\";position: absolute;border-left: 1px solid gray;box-sizing: border-box;top: 0;bottom: 0;left: 50%;z-index: -1;}#sk-container-id-7 div.sk-parallel-item {display: flex;flex-direction: column;z-index: 1;position: relative;background-color: white;}#sk-container-id-7 div.sk-parallel-item:first-child::after {align-self: flex-end;width: 50%;}#sk-container-id-7 div.sk-parallel-item:last-child::after {align-self: flex-start;width: 50%;}#sk-container-id-7 div.sk-parallel-item:only-child::after {width: 0;}#sk-container-id-7 div.sk-dashed-wrapped {border: 1px dashed gray;margin: 0 0.4em 0.5em 0.4em;box-sizing: border-box;padding-bottom: 0.4em;background-color: white;}#sk-container-id-7 div.sk-label label {font-family: monospace;font-weight: bold;display: inline-block;line-height: 1.2em;}#sk-container-id-7 div.sk-label-container {text-align: center;}#sk-container-id-7 div.sk-container {/* jupyter's `normalize.less` sets `[hidden] { display: none; }` but bootstrap.min.css set `[hidden] { display: none !important; }` so we also need the `!important` here to be able to override the default hidden behavior on the sphinx rendered scikit-learn.org. See: https://github.com/scikit-learn/scikit-learn/issues/21755 */display: inline-block !important;position: relative;}#sk-container-id-7 div.sk-text-repr-fallback {display: none;}</style><div id=\"sk-container-id-7\" class=\"sk-top-container\"><div class=\"sk-text-repr-fallback\"><pre>RandomizedSearchCV(cv=10, estimator=RandomForestClassifier(), n_jobs=-1,\n",
       "                   param_distributions={&#x27;criterion&#x27;: [&#x27;gini&#x27;, &#x27;entropy&#x27;],\n",
       "                                        &#x27;max_depth&#x27;: range(2, 20),\n",
       "                                        &#x27;max_features&#x27;: [&#x27;auto&#x27;, &#x27;log2&#x27;],\n",
       "                                        &#x27;min_samples_leaf&#x27;: range(1, 10),\n",
       "                                        &#x27;min_samples_split&#x27;: range(2, 10),\n",
       "                                        &#x27;n_estimators&#x27;: [90, 100, 115, 130]})</pre><b>In a Jupyter environment, please rerun this cell to show the HTML representation or trust the notebook. <br />On GitHub, the HTML representation is unable to render, please try loading this page with nbviewer.org.</b></div><div class=\"sk-container\" hidden><div class=\"sk-item sk-dashed-wrapped\"><div class=\"sk-label-container\"><div class=\"sk-label sk-toggleable\"><input class=\"sk-toggleable__control sk-hidden--visually\" id=\"sk-estimator-id-9\" type=\"checkbox\" ><label for=\"sk-estimator-id-9\" class=\"sk-toggleable__label sk-toggleable__label-arrow\">RandomizedSearchCV</label><div class=\"sk-toggleable__content\"><pre>RandomizedSearchCV(cv=10, estimator=RandomForestClassifier(), n_jobs=-1,\n",
       "                   param_distributions={&#x27;criterion&#x27;: [&#x27;gini&#x27;, &#x27;entropy&#x27;],\n",
       "                                        &#x27;max_depth&#x27;: range(2, 20),\n",
       "                                        &#x27;max_features&#x27;: [&#x27;auto&#x27;, &#x27;log2&#x27;],\n",
       "                                        &#x27;min_samples_leaf&#x27;: range(1, 10),\n",
       "                                        &#x27;min_samples_split&#x27;: range(2, 10),\n",
       "                                        &#x27;n_estimators&#x27;: [90, 100, 115, 130]})</pre></div></div></div><div class=\"sk-parallel\"><div class=\"sk-parallel-item\"><div class=\"sk-item\"><div class=\"sk-label-container\"><div class=\"sk-label sk-toggleable\"><input class=\"sk-toggleable__control sk-hidden--visually\" id=\"sk-estimator-id-10\" type=\"checkbox\" ><label for=\"sk-estimator-id-10\" class=\"sk-toggleable__label sk-toggleable__label-arrow\">estimator: RandomForestClassifier</label><div class=\"sk-toggleable__content\"><pre>RandomForestClassifier()</pre></div></div></div><div class=\"sk-serial\"><div class=\"sk-item\"><div class=\"sk-estimator sk-toggleable\"><input class=\"sk-toggleable__control sk-hidden--visually\" id=\"sk-estimator-id-11\" type=\"checkbox\" ><label for=\"sk-estimator-id-11\" class=\"sk-toggleable__label sk-toggleable__label-arrow\">RandomForestClassifier</label><div class=\"sk-toggleable__content\"><pre>RandomForestClassifier()</pre></div></div></div></div></div></div></div></div></div></div>"
      ],
      "text/plain": [
       "RandomizedSearchCV(cv=10, estimator=RandomForestClassifier(), n_jobs=-1,\n",
       "                   param_distributions={'criterion': ['gini', 'entropy'],\n",
       "                                        'max_depth': range(2, 20),\n",
       "                                        'max_features': ['auto', 'log2'],\n",
       "                                        'min_samples_leaf': range(1, 10),\n",
       "                                        'min_samples_split': range(2, 10),\n",
       "                                        'n_estimators': [90, 100, 115, 130]})"
      ]
     },
     "execution_count": 53,
     "metadata": {},
     "output_type": "execute_result"
    }
   ],
   "source": [
    "# Initialize the RandomizedSearchCV object to perform hyperparameter tuning\n",
    "Random_rf = RandomizedSearchCV(RandomForestClassifier(), rf_params, cv=10, n_jobs=-1)\n",
    "Random_rf.fit(X_train_scaled, y_train)"
   ]
  },
  {
   "cell_type": "code",
   "execution_count": 54,
   "id": "4f59d504",
   "metadata": {},
   "outputs": [
    {
     "data": {
      "text/plain": [
       "0.958904109589041"
      ]
     },
     "execution_count": 54,
     "metadata": {},
     "output_type": "execute_result"
    }
   ],
   "source": [
    "# Select the best estimator\n",
    "Best_rf = Random_rf.best_estimator_\n",
    "Best_rf.score(X_test_scaled,y_test)"
   ]
  },
  {
   "cell_type": "code",
   "execution_count": 55,
   "id": "df9ed672",
   "metadata": {},
   "outputs": [],
   "source": [
    "# Predict and evaluate the best Random Forest model\n",
    "Bestrf_pred = Best_rf.predict(X_test_scaled)\n",
    "Actual_predicted = pd.DataFrame({'Actual Revenue': y_test, 'Predicted Revenue': Bestrf_pred})    \n",
    "#Actual_predicted"
   ]
  },
  {
   "cell_type": "code",
   "execution_count": 56,
   "id": "e6bbd4b9",
   "metadata": {
    "lines_to_next_cell": 2
   },
   "outputs": [
    {
     "name": "stdout",
     "output_type": "stream",
     "text": [
      "FINAL Random Forest\n",
      "Accuracy Score value: 0.9589\n",
      "              precision    recall  f1-score   support\n",
      "\n",
      "           0       0.91      1.00      0.95        30\n",
      "           1       1.00      0.93      0.96        43\n",
      "\n",
      "    accuracy                           0.96        73\n",
      "   macro avg       0.95      0.97      0.96        73\n",
      "weighted avg       0.96      0.96      0.96        73\n",
      "\n"
     ]
    }
   ],
   "source": [
    "Score = accuracy_score(y_test, Bestrf_pred)\n",
    "Classification_Report = classification_report(y_test,Bestrf_pred)\n",
    "print(\"FINAL Random Forest\")\n",
    "print (\"Accuracy Score value: {:.4f}\".format(Score))\n",
    "print (Classification_Report)"
   ]
  },
  {
   "cell_type": "code",
   "execution_count": 57,
   "id": "701484ff",
   "metadata": {},
   "outputs": [],
   "source": [
    "# **Model Selection using Cross-Validation**\n",
    "# apply Stratified K-Fold cross-validation to understand the consistent performance of our models across different folds.\n",
    "# Stratified K-Fold maintains the proportion of the target class in each fold, leading to a more reliable cross-validation result.\n",
    "skfold = StratifiedKFold(n_splits= 10,shuffle= True,random_state= 0)"
   ]
  },
  {
   "cell_type": "code",
   "execution_count": 58,
   "id": "cf213657",
   "metadata": {},
   "outputs": [],
   "source": [
    "# Calculate cross-validation scores for all models\n",
    "# Calculate cross-validation scores for all models\n",
    "cv_xgb_score = cross_val_score(Best_xgb, X, y, cv=skfold, scoring='accuracy').mean()\n",
    "cv_rf_score = cross_val_score(Best_rf, X, y, cv=skfold, scoring='accuracy').mean()\n",
    "cv_dt_score = cross_val_score(Decision_Tree_Classifier, X, y, cv=skfold, scoring='accuracy').mean()\n",
    "cv_knn_score = cross_val_score(K_Neighbors_Classifier, X, y, cv=skfold, scoring='accuracy').mean()\n",
    "cv_lg_score = cross_val_score(Logistic_Regression, X, y, cv=skfold, scoring='accuracy').mean()"
   ]
  },
  {
   "cell_type": "code",
   "execution_count": 59,
   "id": "05da7eac",
   "metadata": {},
   "outputs": [
    {
     "name": "stdout",
     "output_type": "stream",
     "text": [
      "Mean CV Accuracy - XGBoost: 0.9752\n",
      "Mean CV Accuracy - Random Forest: 0.9793\n",
      "Mean CV Accuracy - Decision Tree: 0.9712\n",
      "Mean CV Accuracy - KNN: 0.9052\n",
      "Mean CV Accuracy - Logistic Regression: 0.9630\n"
     ]
    }
   ],
   "source": [
    "# Print the mean cross-validation score for each model\n",
    "print(f'Mean CV Accuracy - XGBoost: {cv_xgb_score:.4f}')\n",
    "print(f'Mean CV Accuracy - Random Forest: {cv_rf_score:.4f}')\n",
    "print(f'Mean CV Accuracy - Decision Tree: {cv_dt_score:.4f}')\n",
    "print(f'Mean CV Accuracy - KNN: {cv_knn_score:.4f}')\n",
    "print(f'Mean CV Accuracy - Logistic Regression: {cv_lg_score:.4f}')"
   ]
  },
  {
   "cell_type": "code",
   "execution_count": 60,
   "id": "525e7235",
   "metadata": {},
   "outputs": [
    {
     "data": {
      "text/plain": [
       "'\\n| Models                | Training Score | Test Score | Accuracy | \\n|-----------------------|----------------|------------|----------|\\n| Logistic Regression   | 0.9706         | 0.9178     | 91.78%   | \\n| Decision Tree         | 0.9752         | 0.9367     | 97.52%   | \\n| Random Forest         | 1.0000         | 0.9863     | 98.63%   |\\n| K-Neighbors           | 0.9647         | 0.9315     | 93.15%   | \\n| XGBoost               | 0.9941         | 0.9726     | 97.26%   | \\n'"
      ]
     },
     "execution_count": 60,
     "metadata": {},
     "output_type": "execute_result"
    }
   ],
   "source": [
    "\"\"\"\n",
    "| Models                | Training Score | Test Score | Accuracy | \n",
    "|-----------------------|----------------|------------|----------|\n",
    "| Logistic Regression   | 0.9706         | 0.9178     | 91.78%   | \n",
    "| Decision Tree         | 0.9752         | 0.9367     | 97.52%   | \n",
    "| Random Forest         | 1.0000         | 0.9863     | 98.63%   |\n",
    "| K-Neighbors           | 0.9647         | 0.9315     | 93.15%   | \n",
    "| XGBoost               | 0.9941         | 0.9726     | 97.26%   | \n",
    "\"\"\""
   ]
  },
  {
   "cell_type": "markdown",
   "id": "ce4ca8ac",
   "metadata": {},
   "source": [
    "Model Deployment"
   ]
  },
  {
   "cell_type": "markdown",
   "id": "80120bd7",
   "metadata": {},
   "source": [
    "The XGBoost Classifier has demonstrated superior performance over other models.\n",
    "Hence, we will utilize this model for the final deployment phase."
   ]
  },
  {
   "cell_type": "markdown",
   "id": "4acb4ace",
   "metadata": {},
   "source": [
    "Feature Importance for Deployment"
   ]
  },
  {
   "cell_type": "code",
   "execution_count": 61,
   "id": "82199b90",
   "metadata": {},
   "outputs": [],
   "source": [
    "X_train_new = X_train.drop(['Rain', 'RH'], axis=1)\n",
    "X_test_new = X_test.drop(['Rain', 'RH'], axis=1)"
   ]
  },
  {
   "cell_type": "code",
   "execution_count": 62,
   "id": "26e5cd55",
   "metadata": {},
   "outputs": [],
   "source": [
    "# Reducing the feature set for the deployment model\n",
    "X_train_new_scaled, X_test_new_scaled = scaler_standard(X_train_new, X_test_new)"
   ]
  },
  {
   "cell_type": "code",
   "execution_count": 63,
   "id": "9058722e",
   "metadata": {},
   "outputs": [
    {
     "data": {
      "text/plain": [
       "0.9726027397260274"
      ]
     },
     "execution_count": 63,
     "metadata": {},
     "output_type": "execute_result"
    }
   ],
   "source": [
    "xgb_model =Random_xgb.fit(X_train_new_scaled, y_train).best_estimator_\n",
    "xgb_model.score(X_test_new_scaled, y_test)"
   ]
  },
  {
   "cell_type": "code",
   "execution_count": 64,
   "id": "65b9f142",
   "metadata": {},
   "outputs": [
    {
     "data": {
      "text/plain": [
       "array([1, 1, 1, 1, 1, 1, 0, 1, 1, 1, 0, 1, 1, 1, 0, 0, 0, 0, 1, 0, 1, 1,\n",
       "       0, 0, 1, 1, 1, 0, 0, 0, 1, 0, 0, 1, 1, 0, 0, 1, 1, 0, 1, 0, 0, 0,\n",
       "       0, 0, 1, 1, 0, 0, 1, 1, 0, 0, 1, 1, 1, 1, 1, 1, 1, 1, 0, 1, 1, 1,\n",
       "       0, 0, 1, 1, 1, 0, 1])"
      ]
     },
     "execution_count": 64,
     "metadata": {},
     "output_type": "execute_result"
    }
   ],
   "source": [
    "xgb_model_pred = xgb_model.predict(X_test_new_scaled)\n",
    "xgb_model_pred"
   ]
  },
  {
   "cell_type": "code",
   "execution_count": 65,
   "id": "a837d882",
   "metadata": {},
   "outputs": [],
   "source": [
    "Actual_predicted = pd.DataFrame({'Actual Revenue': y_test, 'Predicted Revenue': xgb_model_pred})    \n",
    "#Actual_predicted"
   ]
  },
  {
   "cell_type": "code",
   "execution_count": 66,
   "id": "081e26a4",
   "metadata": {},
   "outputs": [
    {
     "name": "stdout",
     "output_type": "stream",
     "text": [
      "Final Model XGB\n",
      "Accuracy Score value: 0.9726\n",
      "              precision    recall  f1-score   support\n",
      "\n",
      "           0       0.97      0.97      0.97        30\n",
      "           1       0.98      0.98      0.98        43\n",
      "\n",
      "    accuracy                           0.97        73\n",
      "   macro avg       0.97      0.97      0.97        73\n",
      "weighted avg       0.97      0.97      0.97        73\n",
      "\n"
     ]
    }
   ],
   "source": [
    "Score = accuracy_score(y_test, xgb_model_pred)\n",
    "Classification_Report = classification_report(y_test, xgb_model_pred)\n",
    "print(\"Final Model XGB\")\n",
    "print (\"Accuracy Score value: {:.4f}\".format(Score))\n",
    "print (Classification_Report)"
   ]
  },
  {
   "cell_type": "code",
   "execution_count": 67,
   "id": "4c207a29",
   "metadata": {},
   "outputs": [],
   "source": [
    "# Model Serialization for Deployment\n",
    "# Compressing and saving the model to a binary file using BZ2 compression, \n",
    "import bz2,pickle\n",
    "file = bz2.BZ2File('Classification.pkl','wb')\n",
    "pickle.dump(best_random_grid,file)\n",
    "file.close()"
   ]
  }
 ],
 "metadata": {
  "jupytext": {
   "cell_metadata_filter": "-all",
   "main_language": "python",
   "notebook_metadata_filter": "-all"
  },
  "kernelspec": {
   "display_name": "Python 3",
   "language": "python",
   "name": "python3"
  },
  "language_info": {
   "codemirror_mode": {
    "name": "ipython",
    "version": 3
   },
   "file_extension": ".py",
   "mimetype": "text/x-python",
   "name": "python",
   "nbconvert_exporter": "python",
   "pygments_lexer": "ipython3",
   "version": "3.9.9"
  }
 },
 "nbformat": 4,
 "nbformat_minor": 5
}
